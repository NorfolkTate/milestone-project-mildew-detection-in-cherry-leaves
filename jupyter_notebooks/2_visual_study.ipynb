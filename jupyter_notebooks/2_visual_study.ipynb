{
 "cells": [
  {
   "cell_type": "markdown",
   "id": "5e39ccad",
   "metadata": {},
   "source": [
    "# **2 – Visual Study**"
   ]
  },
  {
   "cell_type": "markdown",
   "id": "c3a2d73f",
   "metadata": {},
   "source": [
    "## Objectives\n",
    "\n",
    "* Explore the cherry leaf image dataset visually\n",
    "* Differentiate between healthy and powdery mildew-infected leaves\n",
    "* Support Business Requirement #1 through image analysis and insights\n",
    "\n",
    "## Inputs\n",
    "\n",
    "* Images located in -  inputs/dataset/raw/cherry-leaves/\n",
    "* Subfolders - healthy/, powdery_mildew/\n",
    "\n",
    "## Outputs\n",
    "\n",
    "* Image count per class\n",
    "* Sample images from each class\n",
    "* Average and variability images\n",
    "* Images displayed to illustrate visual patterns\n",
    "\n"
   ]
  },
  {
   "cell_type": "markdown",
   "id": "0a480cba",
   "metadata": {},
   "source": [
    "\n",
    "--- "
   ]
  },
  {
   "cell_type": "markdown",
   "id": "2523377c",
   "metadata": {},
   "source": [
    "# Change working directory"
   ]
  },
  {
   "cell_type": "markdown",
   "id": "430cceca",
   "metadata": {},
   "source": [
    "Change the working directory from its current folder to its parent folder"
   ]
  },
  {
   "cell_type": "code",
   "execution_count": 1,
   "id": "557b9ee4",
   "metadata": {},
   "outputs": [
    {
     "data": {
      "text/plain": [
       "'c:\\\\Users\\\\amyno\\\\OneDrive\\\\Documents\\\\CherryLeafProject\\\\milestone-project-mildew-detection-in-cherry-leaves\\\\jupyter_notebooks'"
      ]
     },
     "execution_count": 1,
     "metadata": {},
     "output_type": "execute_result"
    }
   ],
   "source": [
    "import os\n",
    "current_dir = os.getcwd()\n",
    "current_dir"
   ]
  },
  {
   "cell_type": "markdown",
   "id": "9062ec47",
   "metadata": {},
   "source": [
    "Make the parent of the current directory the new current directory\n",
    "* os.path.dirname() gets the parent directory\n",
    "* os.chir() defines the new current directory"
   ]
  },
  {
   "cell_type": "code",
   "execution_count": 2,
   "id": "c53b9974",
   "metadata": {},
   "outputs": [
    {
     "name": "stdout",
     "output_type": "stream",
     "text": [
      "You set a new current directory\n"
     ]
    }
   ],
   "source": [
    "os.chdir(os.path.dirname(current_dir))\n",
    "print(\"You set a new current directory\")"
   ]
  },
  {
   "cell_type": "markdown",
   "id": "3b365a1d",
   "metadata": {},
   "source": [
    "Confirm the new current directory"
   ]
  },
  {
   "cell_type": "code",
   "execution_count": 3,
   "id": "1ed59ded",
   "metadata": {},
   "outputs": [
    {
     "data": {
      "text/plain": [
       "'c:\\\\Users\\\\amyno\\\\OneDrive\\\\Documents\\\\CherryLeafProject\\\\milestone-project-mildew-detection-in-cherry-leaves'"
      ]
     },
     "execution_count": 3,
     "metadata": {},
     "output_type": "execute_result"
    }
   ],
   "source": [
    "current_dir = os.getcwd()\n",
    "current_dir"
   ]
  },
  {
   "cell_type": "markdown",
   "id": "70d90e10",
   "metadata": {},
   "source": [
    "---"
   ]
  },
  {
   "cell_type": "markdown",
   "id": "998fafb0",
   "metadata": {},
   "source": [
    "# Count of images per class"
   ]
  },
  {
   "cell_type": "markdown",
   "id": "36bb1cf6",
   "metadata": {},
   "source": [
    "\n",
    "In this section, I count how many images exist for each class (healthy vs powdery mildew).\n",
    "This helps confirm the dataset is balanced and gives context for later modeling."
   ]
  },
  {
   "cell_type": "markdown",
   "id": "6fdd534d",
   "metadata": {},
   "source": [
    "Set path to image folders"
   ]
  },
  {
   "cell_type": "code",
   "execution_count": 4,
   "id": "fde73d79",
   "metadata": {},
   "outputs": [],
   "source": [
    "image_path = \"inputs/dataset/raw/cherry-leaves\"\n",
    "class_names = os.listdir(image_path)"
   ]
  },
  {
   "cell_type": "markdown",
   "id": "8dc62a7c",
   "metadata": {},
   "source": [
    "Determine no. of images per class"
   ]
  },
  {
   "cell_type": "code",
   "execution_count": 5,
   "id": "6a02cc76",
   "metadata": {},
   "outputs": [
    {
     "name": "stdout",
     "output_type": "stream",
     "text": [
      "healthy: 2104 images\n",
      "powdery_mildew: 2104 images\n"
     ]
    }
   ],
   "source": [
    "for class_name in class_names:\n",
    "    class_dir = os.path.join(image_path, class_name)\n",
    "    image_count = len(os.listdir(class_dir))\n",
    "    print(f\"{class_name}: {image_count} images\")"
   ]
  },
  {
   "cell_type": "markdown",
   "id": "0c53575f",
   "metadata": {},
   "source": [
    "This shows that there is the same amount of healthy and diseased images to analyse. This is important as it shows that the data sets are even and there is no skew in favour of either class. "
   ]
  },
  {
   "cell_type": "markdown",
   "id": "c0be1c55",
   "metadata": {},
   "source": [
    "It also shows that there is a healthy amount of data to work with. 2104 images per class allows more than enough data to train, test and validate the model."
   ]
  }
 ],
 "metadata": {
  "kernelspec": {
   "display_name": "venv",
   "language": "python",
   "name": "python3"
  },
  "language_info": {
   "codemirror_mode": {
    "name": "ipython",
    "version": 3
   },
   "file_extension": ".py",
   "mimetype": "text/x-python",
   "name": "python",
   "nbconvert_exporter": "python",
   "pygments_lexer": "ipython3",
   "version": "3.10.0"
  }
 },
 "nbformat": 4,
 "nbformat_minor": 5
}
