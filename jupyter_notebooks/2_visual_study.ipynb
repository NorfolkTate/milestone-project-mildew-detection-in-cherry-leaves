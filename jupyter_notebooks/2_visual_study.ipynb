{
 "cells": [
  {
   "cell_type": "markdown",
   "id": "5e39ccad",
   "metadata": {},
   "source": [
    "# **2 – Visual Study**"
   ]
  },
  {
   "cell_type": "markdown",
   "id": "c3a2d73f",
   "metadata": {},
   "source": [
    "## Objectives\n",
    "\n",
    "* Explore the cherry leaf image dataset visually\n",
    "* Differentiate between healthy and powdery mildew-infected leaves\n",
    "* Support Business Requirement #1 through image analysis and insights\n",
    "\n",
    "## Inputs\n",
    "\n",
    "* Images located in -  inputs/dataset/raw/cherry-leaves/\n",
    "* Subfolders - healthy/, powdery_mildew/\n",
    "\n",
    "## Outputs\n",
    "\n",
    "* Image count per class\n",
    "* Sample images from each class\n",
    "* Average and variability images\n",
    "* Images displayed to illustrate visual patterns\n",
    "\n"
   ]
  },
  {
   "cell_type": "markdown",
   "id": "0a480cba",
   "metadata": {},
   "source": [
    "\n",
    "--- "
   ]
  },
  {
   "cell_type": "markdown",
   "id": "2523377c",
   "metadata": {},
   "source": [
    "# Change working directory"
   ]
  },
  {
   "cell_type": "markdown",
   "id": "430cceca",
   "metadata": {},
   "source": [
    "Change the working directory from its current folder to its parent folder"
   ]
  },
  {
   "cell_type": "code",
   "execution_count": 1,
   "id": "557b9ee4",
   "metadata": {},
   "outputs": [
    {
     "data": {
      "text/plain": [
       "'c:\\\\Users\\\\amyno\\\\OneDrive\\\\Documents\\\\CherryLeafProject\\\\milestone-project-mildew-detection-in-cherry-leaves\\\\jupyter_notebooks'"
      ]
     },
     "execution_count": 1,
     "metadata": {},
     "output_type": "execute_result"
    }
   ],
   "source": [
    "import os\n",
    "current_dir = os.getcwd()\n",
    "current_dir"
   ]
  },
  {
   "cell_type": "markdown",
   "id": "9062ec47",
   "metadata": {},
   "source": [
    "Make the parent of the current directory the new current directory\n",
    "* os.path.dirname() gets the parent directory\n",
    "* os.chir() defines the new current directory"
   ]
  },
  {
   "cell_type": "code",
   "execution_count": 2,
   "id": "c53b9974",
   "metadata": {},
   "outputs": [
    {
     "name": "stdout",
     "output_type": "stream",
     "text": [
      "You set a new current directory\n"
     ]
    }
   ],
   "source": [
    "os.chdir(os.path.dirname(current_dir))\n",
    "print(\"You set a new current directory\")"
   ]
  },
  {
   "cell_type": "markdown",
   "id": "3b365a1d",
   "metadata": {},
   "source": [
    "Confirm the new current directory"
   ]
  },
  {
   "cell_type": "code",
   "execution_count": 3,
   "id": "1ed59ded",
   "metadata": {},
   "outputs": [
    {
     "data": {
      "text/plain": [
       "'c:\\\\Users\\\\amyno\\\\OneDrive\\\\Documents\\\\CherryLeafProject\\\\milestone-project-mildew-detection-in-cherry-leaves'"
      ]
     },
     "execution_count": 3,
     "metadata": {},
     "output_type": "execute_result"
    }
   ],
   "source": [
    "current_dir = os.getcwd()\n",
    "current_dir"
   ]
  },
  {
   "cell_type": "markdown",
   "id": "70d90e10",
   "metadata": {},
   "source": [
    "---"
   ]
  },
  {
   "cell_type": "markdown",
   "id": "998fafb0",
   "metadata": {},
   "source": [
    "# Count of images per class"
   ]
  },
  {
   "cell_type": "markdown",
   "id": "36bb1cf6",
   "metadata": {},
   "source": [
    "\n",
    "In this section, I count how many images exist for each class (healthy vs powdery mildew).\n",
    "This helps confirm the dataset is balanced and gives context for later modeling."
   ]
  },
  {
   "cell_type": "markdown",
   "id": "6fdd534d",
   "metadata": {},
   "source": [
    "Set path to image folders"
   ]
  },
  {
   "cell_type": "code",
   "execution_count": 4,
   "id": "fde73d79",
   "metadata": {},
   "outputs": [],
   "source": [
    "image_path = \"inputs/dataset/raw/cherry-leaves\"\n",
    "class_names = os.listdir(image_path)"
   ]
  },
  {
   "cell_type": "markdown",
   "id": "8dc62a7c",
   "metadata": {},
   "source": [
    "Determine no. of images per class"
   ]
  },
  {
   "cell_type": "code",
   "execution_count": 5,
   "id": "6a02cc76",
   "metadata": {},
   "outputs": [
    {
     "name": "stdout",
     "output_type": "stream",
     "text": [
      "healthy: 2104 images\n",
      "powdery_mildew: 2104 images\n"
     ]
    }
   ],
   "source": [
    "for class_name in class_names:\n",
    "    class_dir = os.path.join(image_path, class_name)\n",
    "    image_count = len(os.listdir(class_dir))\n",
    "    print(f\"{class_name}: {image_count} images\")"
   ]
  },
  {
   "cell_type": "markdown",
   "id": "0c53575f",
   "metadata": {},
   "source": [
    "This shows that there is the same amount of healthy and diseased images to analyse. This is important as it shows that the data sets are even and there is no skew in favour of either class. "
   ]
  },
  {
   "cell_type": "markdown",
   "id": "c0be1c55",
   "metadata": {},
   "source": [
    "It also shows that there is a healthy amount of data to work with. 2104 images per class allows more than enough data to train, test and validate the model."
   ]
  },
  {
   "cell_type": "markdown",
   "id": "9e484dc3",
   "metadata": {},
   "source": [
    "---"
   ]
  },
  {
   "cell_type": "markdown",
   "id": "7332b32c",
   "metadata": {},
   "source": [
    "# Sample images from each class"
   ]
  },
  {
   "cell_type": "markdown",
   "id": "38cdc690",
   "metadata": {},
   "source": [
    "I will take a random sample of 5 images from each of the classes, healthy and diseased. This will demonstrate the visual differences and help to ensure the data is accurate "
   ]
  },
  {
   "cell_type": "markdown",
   "id": "cc4516e9",
   "metadata": {},
   "source": [
    "import os for the file paths, random to enable random choosing of the images, Python Imaging Library to load the images, and MatPlotLib to display those images"
   ]
  },
  {
   "cell_type": "code",
   "execution_count": 7,
   "id": "6853812f",
   "metadata": {},
   "outputs": [
    {
     "name": "stdout",
     "output_type": "stream",
     "text": [
      "Collecting matplotlib\n",
      "  Downloading matplotlib-3.10.1-cp310-cp310-win_amd64.whl.metadata (11 kB)\n",
      "Requirement already satisfied: contourpy>=1.0.1 in c:\\users\\amyno\\onedrive\\documents\\cherryleafproject\\milestone-project-mildew-detection-in-cherry-leaves\\venv\\lib\\site-packages (from matplotlib) (1.3.2)\n",
      "Requirement already satisfied: cycler>=0.10 in c:\\users\\amyno\\onedrive\\documents\\cherryleafproject\\milestone-project-mildew-detection-in-cherry-leaves\\venv\\lib\\site-packages (from matplotlib) (0.12.1)\n",
      "Requirement already satisfied: fonttools>=4.22.0 in c:\\users\\amyno\\onedrive\\documents\\cherryleafproject\\milestone-project-mildew-detection-in-cherry-leaves\\venv\\lib\\site-packages (from matplotlib) (4.57.0)\n",
      "Requirement already satisfied: kiwisolver>=1.3.1 in c:\\users\\amyno\\onedrive\\documents\\cherryleafproject\\milestone-project-mildew-detection-in-cherry-leaves\\venv\\lib\\site-packages (from matplotlib) (1.4.8)\n",
      "Requirement already satisfied: numpy>=1.23 in c:\\users\\amyno\\onedrive\\documents\\cherryleafproject\\milestone-project-mildew-detection-in-cherry-leaves\\venv\\lib\\site-packages (from matplotlib) (1.26.1)\n",
      "Requirement already satisfied: packaging>=20.0 in c:\\users\\amyno\\onedrive\\documents\\cherryleafproject\\milestone-project-mildew-detection-in-cherry-leaves\\venv\\lib\\site-packages (from matplotlib) (24.2)\n",
      "Requirement already satisfied: pillow>=8 in c:\\users\\amyno\\onedrive\\documents\\cherryleafproject\\milestone-project-mildew-detection-in-cherry-leaves\\venv\\lib\\site-packages (from matplotlib) (10.0.1)\n",
      "Requirement already satisfied: pyparsing>=2.3.1 in c:\\users\\amyno\\onedrive\\documents\\cherryleafproject\\milestone-project-mildew-detection-in-cherry-leaves\\venv\\lib\\site-packages (from matplotlib) (3.2.3)\n",
      "Requirement already satisfied: python-dateutil>=2.7 in c:\\users\\amyno\\onedrive\\documents\\cherryleafproject\\milestone-project-mildew-detection-in-cherry-leaves\\venv\\lib\\site-packages (from matplotlib) (2.9.0.post0)\n",
      "Requirement already satisfied: six>=1.5 in c:\\users\\amyno\\onedrive\\documents\\cherryleafproject\\milestone-project-mildew-detection-in-cherry-leaves\\venv\\lib\\site-packages (from python-dateutil>=2.7->matplotlib) (1.17.0)\n",
      "Downloading matplotlib-3.10.1-cp310-cp310-win_amd64.whl (8.1 MB)\n",
      "   ---------------------------------------- 0.0/8.1 MB ? eta -:--:--\n",
      "   ------------------------------- -------- 6.3/8.1 MB 32.1 MB/s eta 0:00:01\n",
      "   ---------------------------------------- 8.1/8.1 MB 29.3 MB/s eta 0:00:00\n",
      "Installing collected packages: matplotlib\n",
      "Successfully installed matplotlib-3.10.1\n"
     ]
    },
    {
     "name": "stderr",
     "output_type": "stream",
     "text": [
      "\n",
      "[notice] A new release of pip is available: 24.3.1 -> 25.0.1\n",
      "[notice] To update, run: python.exe -m pip install --upgrade pip\n"
     ]
    }
   ],
   "source": [
    "!pip install matplotlib\n"
   ]
  },
  {
   "cell_type": "code",
   "execution_count": 8,
   "id": "ba96cd64",
   "metadata": {},
   "outputs": [],
   "source": [
    "import os\n",
    "import random\n",
    "from PIL import Image\n",
    "import matplotlib.pyplot as plt"
   ]
  },
  {
   "cell_type": "markdown",
   "id": "26d6455d",
   "metadata": {},
   "source": [
    "set folder for images and define both classes"
   ]
  },
  {
   "cell_type": "code",
   "execution_count": 10,
   "id": "dce73f68",
   "metadata": {},
   "outputs": [],
   "source": [
    "base_path = \"inputs/dataset/raw/cherry-leaves\"\n",
    "\n",
    "classes = [\"healthy\", \"powdery_mildew\"]"
   ]
  }
 ],
 "metadata": {
  "kernelspec": {
   "display_name": "venv",
   "language": "python",
   "name": "python3"
  },
  "language_info": {
   "codemirror_mode": {
    "name": "ipython",
    "version": 3
   },
   "file_extension": ".py",
   "mimetype": "text/x-python",
   "name": "python",
   "nbconvert_exporter": "python",
   "pygments_lexer": "ipython3",
   "version": "3.10.0"
  }
 },
 "nbformat": 4,
 "nbformat_minor": 5
}
