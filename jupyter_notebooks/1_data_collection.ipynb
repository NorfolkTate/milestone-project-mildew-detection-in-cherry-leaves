{
  "cells": [
    {
      "cell_type": "markdown",
      "metadata": {
        "id": "0aStgWSO0E0E"
      },
      "source": [
        "# **1 – Data Collection**\n"
      ]
    },
    {
      "cell_type": "markdown",
      "metadata": {
        "id": "1eLEkw5O0ECa"
      },
      "source": [
        "## Objectives\n",
        "\n",
        "* Authenticate with Kaggle and download the cherry leaf image dataset  \n",
        "\n",
        "## Inputs\n",
        "\n",
        "* kaggle.json authentication token \n",
        "* Cherry leaf image dataset from Kaggle\n",
        "\n",
        "## Outputs\n",
        " \n",
        "* Dataset saved to raw data folder\n",
        "* folder structure with train, validation and test data\n"
      ]
    },
    {
      "cell_type": "markdown",
      "metadata": {
        "id": "9uWZXH9LwoQg"
      },
      "source": [
        "---"
      ]
    },
    {
      "cell_type": "markdown",
      "metadata": {
        "id": "cqP-UeN-z3i2"
      },
      "source": [
        "# Change working directory"
      ]
    },
    {
      "cell_type": "markdown",
      "metadata": {
        "id": "aOGIGS-uz3i2"
      },
      "source": [
        "Change the working directory from its current folder to its parent folder"
      ]
    },
    {
      "cell_type": "code",
      "execution_count": null,
      "metadata": {
        "id": "wZfF_j-Bz3i4",
        "outputId": "66943449-1436-4c3d-85c7-b85f9f78349b"
      },
      "outputs": [
        {
          "name": "stdout",
          "output_type": "stream",
          "text": [
            "✅ Current working directory is now: C:\\Users\\amyno\\OneDrive\\Documents\\CherryLeafProject\\milestone-project-mildew-detection-in-cherry-leaves\n"
          ]
        }
      ],
      "source": [
        "import os\n",
        "\n",
        "project_dir = r\"C:\\Users\\amyno\\OneDrive\\Documents\\CherryLeafProject\\milestone-project-mildew-detection-in-cherry-leaves\"\n",
        "\n",
        "os.chdir(project_dir)\n",
        "\n",
        "print(f\" Current working directory is now: {os.getcwd()}\")"
      ]
    },
    {
      "cell_type": "markdown",
      "metadata": {
        "id": "9MWW8E7lz3i7"
      },
      "source": [
        "Make the parent of the current directory the new current directory\n",
        "* os.path.dirname() gets the parent directory\n",
        "* os.chir() defines the new current directory"
      ]
    },
    {
      "cell_type": "code",
      "execution_count": 12,
      "metadata": {
        "id": "TwHsQRWjz3i9",
        "outputId": "86849db3-cd2f-4cc5-ebb8-2d0caafa1a2c"
      },
      "outputs": [
        {
          "name": "stdout",
          "output_type": "stream",
          "text": [
            "You set a new current directory\n"
          ]
        }
      ],
      "source": [
        "os.chdir(os.path.dirname(current_dir))\n",
        "print(\"You set a new current directory\")"
      ]
    },
    {
      "cell_type": "markdown",
      "metadata": {
        "id": "M_xPk_Ijz3i-"
      },
      "source": [
        "Confirm the new current directory"
      ]
    },
    {
      "cell_type": "code",
      "execution_count": 13,
      "metadata": {
        "id": "vz3S-_kjz3jA",
        "outputId": "00b79ae4-75d0-4a96-d193-ac9ef9847ea2"
      },
      "outputs": [
        {
          "data": {
            "text/plain": [
              "'c:\\\\Users\\\\amyno\\\\OneDrive\\\\Documents\\\\CherryLeafProject'"
            ]
          },
          "execution_count": 13,
          "metadata": {},
          "output_type": "execute_result"
        }
      ],
      "source": [
        "current_dir = os.getcwd()\n",
        "current_dir"
      ]
    },
    {
      "cell_type": "markdown",
      "metadata": {},
      "source": [
        "---\n"
      ]
    },
    {
      "cell_type": "markdown",
      "metadata": {
        "id": "-mavJ8DibrcQ"
      },
      "source": [
        "# Downloading the cherry leaves dataset"
      ]
    },
    {
      "cell_type": "markdown",
      "metadata": {},
      "source": [
        "\n",
        "This section will:\n",
        "\n",
        "* Authenticate the data with Kaggle using the kaggle.json API token  \n",
        "* Download the cherry leaves image dataset \n",
        "* Unzip the dataset into the directory  \n",
        "* Clean up by deleting the zip file and the Kaggle token for security\n"
      ]
    },
    {
      "cell_type": "markdown",
      "metadata": {},
      "source": [
        "Install Kaggle to fetch data"
      ]
    },
    {
      "cell_type": "code",
      "execution_count": 39,
      "metadata": {},
      "outputs": [
        {
          "name": "stdout",
          "output_type": "stream",
          "text": [
            "Requirement already satisfied: kaggle in c:\\users\\amyno\\onedrive\\documents\\cherryleafproject\\milestone-project-mildew-detection-in-cherry-leaves\\venv\\lib\\site-packages (1.7.4.2)\n",
            "Requirement already satisfied: bleach in c:\\users\\amyno\\onedrive\\documents\\cherryleafproject\\milestone-project-mildew-detection-in-cherry-leaves\\venv\\lib\\site-packages (from kaggle) (6.2.0)\n",
            "Requirement already satisfied: certifi>=14.05.14 in c:\\users\\amyno\\onedrive\\documents\\cherryleafproject\\milestone-project-mildew-detection-in-cherry-leaves\\venv\\lib\\site-packages (from kaggle) (2025.1.31)\n",
            "Requirement already satisfied: charset-normalizer in c:\\users\\amyno\\onedrive\\documents\\cherryleafproject\\milestone-project-mildew-detection-in-cherry-leaves\\venv\\lib\\site-packages (from kaggle) (3.4.1)\n",
            "Requirement already satisfied: idna in c:\\users\\amyno\\onedrive\\documents\\cherryleafproject\\milestone-project-mildew-detection-in-cherry-leaves\\venv\\lib\\site-packages (from kaggle) (3.10)\n",
            "Requirement already satisfied: protobuf in c:\\users\\amyno\\onedrive\\documents\\cherryleafproject\\milestone-project-mildew-detection-in-cherry-leaves\\venv\\lib\\site-packages (from kaggle) (4.25.6)\n",
            "Requirement already satisfied: python-dateutil>=2.5.3 in c:\\users\\amyno\\onedrive\\documents\\cherryleafproject\\milestone-project-mildew-detection-in-cherry-leaves\\venv\\lib\\site-packages (from kaggle) (2.9.0.post0)\n",
            "Requirement already satisfied: python-slugify in c:\\users\\amyno\\onedrive\\documents\\cherryleafproject\\milestone-project-mildew-detection-in-cherry-leaves\\venv\\lib\\site-packages (from kaggle) (8.0.4)\n",
            "Requirement already satisfied: requests in c:\\users\\amyno\\onedrive\\documents\\cherryleafproject\\milestone-project-mildew-detection-in-cherry-leaves\\venv\\lib\\site-packages (from kaggle) (2.32.3)\n",
            "Requirement already satisfied: setuptools>=21.0.0 in c:\\users\\amyno\\onedrive\\documents\\cherryleafproject\\milestone-project-mildew-detection-in-cherry-leaves\\venv\\lib\\site-packages (from kaggle) (57.4.0)\n",
            "Requirement already satisfied: six>=1.10 in c:\\users\\amyno\\onedrive\\documents\\cherryleafproject\\milestone-project-mildew-detection-in-cherry-leaves\\venv\\lib\\site-packages (from kaggle) (1.17.0)\n",
            "Requirement already satisfied: text-unidecode in c:\\users\\amyno\\onedrive\\documents\\cherryleafproject\\milestone-project-mildew-detection-in-cherry-leaves\\venv\\lib\\site-packages (from kaggle) (1.3)\n",
            "Requirement already satisfied: tqdm in c:\\users\\amyno\\onedrive\\documents\\cherryleafproject\\milestone-project-mildew-detection-in-cherry-leaves\\venv\\lib\\site-packages (from kaggle) (4.67.1)\n",
            "Requirement already satisfied: urllib3>=1.15.1 in c:\\users\\amyno\\onedrive\\documents\\cherryleafproject\\milestone-project-mildew-detection-in-cherry-leaves\\venv\\lib\\site-packages (from kaggle) (2.4.0)\n",
            "Requirement already satisfied: webencodings in c:\\users\\amyno\\onedrive\\documents\\cherryleafproject\\milestone-project-mildew-detection-in-cherry-leaves\\venv\\lib\\site-packages (from kaggle) (0.5.1)\n",
            "Requirement already satisfied: colorama in c:\\users\\amyno\\onedrive\\documents\\cherryleafproject\\milestone-project-mildew-detection-in-cherry-leaves\\venv\\lib\\site-packages (from tqdm->kaggle) (0.4.6)\n"
          ]
        },
        {
          "name": "stderr",
          "output_type": "stream",
          "text": [
            "\n",
            "[notice] A new release of pip is available: 24.3.1 -> 25.1.1\n",
            "[notice] To update, run: python.exe -m pip install --upgrade pip\n"
          ]
        }
      ],
      "source": [
        "!pip install kaggle"
      ]
    },
    {
      "cell_type": "markdown",
      "metadata": {},
      "source": [
        "Set environment variable to direct Kaggle to API key"
      ]
    },
    {
      "cell_type": "code",
      "execution_count": 40,
      "metadata": {},
      "outputs": [],
      "source": [
        "import os\n",
        "\n",
        "os.environ['KAGGLE_CONFIG_DIR'] = os.getcwd()"
      ]
    },
    {
      "cell_type": "markdown",
      "metadata": {},
      "source": [
        "Use Kaggle command to download the cherry leaf dataset"
      ]
    },
    {
      "cell_type": "code",
      "execution_count": 41,
      "metadata": {},
      "outputs": [
        {
          "name": "stdout",
          "output_type": "stream",
          "text": [
            "✅ kaggle.json found!\n"
          ]
        }
      ],
      "source": [
        "assert os.path.exists('kaggle.json'), \"kaggle.json not found in current directory\"\n",
        "print(\"✅ kaggle.json found!\")"
      ]
    },
    {
      "cell_type": "code",
      "execution_count": 42,
      "metadata": {},
      "outputs": [
        {
          "name": "stdout",
          "output_type": "stream",
          "text": [
            "C:\\Users\\amyno\\OneDrive\\Documents\\CherryLeafProject\\milestone-project-mildew-detection-in-cherry-leaves\n"
          ]
        }
      ],
      "source": [
        "import os\n",
        "print(os.getcwd())"
      ]
    },
    {
      "cell_type": "code",
      "execution_count": null,
      "metadata": {},
      "outputs": [],
      "source": []
    },
    {
      "cell_type": "code",
      "execution_count": 43,
      "metadata": {},
      "outputs": [
        {
          "name": "stdout",
          "output_type": "stream",
          "text": [
            "Dataset URL: https://www.kaggle.com/datasets/codeinstitute/cherry-leaves\n",
            "License(s): unknown\n"
          ]
        }
      ],
      "source": [
        "!kaggle datasets download -d codeinstitute/cherry-leaves"
      ]
    },
    {
      "cell_type": "markdown",
      "metadata": {},
      "source": [
        "Unzip downloaded dataset into the appropriate folder"
      ]
    },
    {
      "cell_type": "code",
      "execution_count": 44,
      "metadata": {},
      "outputs": [],
      "source": [
        "import zipfile\n",
        "\n",
        "with zipfile.ZipFile(\"cherry-leaves.zip\", \"r\") as zip_ref:\n",
        "    zip_ref.extractall(\"inputs/dataset/raw\")"
      ]
    },
    {
      "cell_type": "markdown",
      "metadata": {},
      "source": [
        "Delete the zip file and kaggle.json token after use for security"
      ]
    },
    {
      "cell_type": "code",
      "execution_count": 45,
      "metadata": {},
      "outputs": [],
      "source": [
        "os.remove(\"cherry-leaves.zip\")\n",
        "os.remove(\"kaggle.json\")"
      ]
    },
    {
      "cell_type": "markdown",
      "metadata": {},
      "source": [
        "Check to see expected contents of folder"
      ]
    },
    {
      "cell_type": "code",
      "execution_count": 46,
      "metadata": {},
      "outputs": [
        {
          "data": {
            "text/plain": [
              "['cherry-leaves']"
            ]
          },
          "execution_count": 46,
          "metadata": {},
          "output_type": "execute_result"
        }
      ],
      "source": [
        "import os\n",
        "\n",
        "os.listdir(\"inputs/dataset/raw\")\n"
      ]
    },
    {
      "cell_type": "markdown",
      "metadata": {},
      "source": [
        "---"
      ]
    },
    {
      "cell_type": "markdown",
      "metadata": {},
      "source": [
        "### Credits\n",
        "* The dataset used was from code institute on Kaggle and can be found [here](https://www.kaggle.com/datasets/codeinstitute/cherry-leaves)\n",
        "\n",
        "* code from code blocks 3 through to 7 was helpfully provided by code institute \n",
        "* code from code block 9 was inspired by Kaggle (ref. in readme)"
      ]
    },
    {
      "cell_type": "markdown",
      "metadata": {
        "id": "ZY3l0-AxO93d"
      },
      "source": [
        "---"
      ]
    },
    {
      "cell_type": "markdown",
      "metadata": {
        "id": "ltNetd085qHf"
      },
      "source": [
        "# Conclusions and next steps"
      ]
    },
    {
      "cell_type": "markdown",
      "metadata": {},
      "source": [
        "## Conclusions\n",
        "\n",
        "* Authenticated with Kaggle using the API key\n",
        "* Downloaded the cherry leaves image dataset\n",
        "* Unzipped and organized the dataset into the appropriate directory structure\n",
        "* Deleted the Kaggle token and zip file after use\n",
        "\n",
        "#### The dataset is now ready for analysis and modeling.\n",
        "\n",
        "## Next steps\n",
        "\n",
        "* Begin a visual study of the dataset to explore visual differences between healthy and diseased leaves\n",
        "* Prepare insights to be included in the dashboard and support later model development\n"
      ]
    }
  ],
  "metadata": {
    "accelerator": "GPU",
    "colab": {
      "name": "Data Practitioner Jupyter Notebook.ipynb",
      "provenance": [],
      "toc_visible": true
    },
    "kernelspec": {
      "display_name": "venv",
      "language": "python",
      "name": "python3"
    },
    "language_info": {
      "codemirror_mode": {
        "name": "ipython",
        "version": 3
      },
      "file_extension": ".py",
      "mimetype": "text/x-python",
      "name": "python",
      "nbconvert_exporter": "python",
      "pygments_lexer": "ipython3",
      "version": "3.10.0"
    },
    "orig_nbformat": 2
  },
  "nbformat": 4,
  "nbformat_minor": 2
}
