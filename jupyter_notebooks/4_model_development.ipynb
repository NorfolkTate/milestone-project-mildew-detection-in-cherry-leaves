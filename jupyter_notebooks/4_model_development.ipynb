{
 "cells": [
  {
   "cell_type": "markdown",
   "id": "2f3b31ba",
   "metadata": {},
   "source": [
    "# **4 – Model Developmemt**"
   ]
  },
  {
   "cell_type": "markdown",
   "id": "d74c0093",
   "metadata": {},
   "source": [
    "## Objectives\n",
    "* Build and train a CNN to classify cherry leaf images as either healthy or diseased\n",
    "* Evaluate model performance and save it for deployment\n",
    "\n",
    "## Inputs\n",
    "* Train/val/test folders from inputs/dataset\n",
    "\n",
    "## Outputs\n",
    "- Trained CNN model\n",
    "- Accuracy/loss plots\n",
    "- Evaluation results on test set\n"
   ]
  },
  {
   "cell_type": "markdown",
   "id": "07f2d8e4",
   "metadata": {},
   "source": [
    "---"
   ]
  },
  {
   "cell_type": "markdown",
   "id": "a32a4422",
   "metadata": {},
   "source": [
    "# Change working directory"
   ]
  },
  {
   "cell_type": "markdown",
   "id": "52e6f3a1",
   "metadata": {},
   "source": [
    "Change the working directory from its current folder to its parent folder"
   ]
  },
  {
   "cell_type": "code",
   "execution_count": 3,
   "id": "80fd0eee",
   "metadata": {},
   "outputs": [
    {
     "data": {
      "text/plain": [
       "'c:\\\\Users\\\\amyno\\\\OneDrive\\\\Documents\\\\CherryLeafProject\\\\milestone-project-mildew-detection-in-cherry-leaves\\\\jupyter_notebooks'"
      ]
     },
     "execution_count": 3,
     "metadata": {},
     "output_type": "execute_result"
    }
   ],
   "source": [
    "import os\n",
    "current_dir = os.getcwd()\n",
    "current_dir"
   ]
  },
  {
   "cell_type": "markdown",
   "id": "524a18b4",
   "metadata": {},
   "source": [
    "Make the parent of the current directory the new current directory\n",
    "* os.path.dirname() gets the parent directory\n",
    "* os.chir() defines the new current directory"
   ]
  },
  {
   "cell_type": "code",
   "execution_count": 4,
   "id": "cb57b390",
   "metadata": {},
   "outputs": [
    {
     "name": "stdout",
     "output_type": "stream",
     "text": [
      "You set a new current directory\n"
     ]
    }
   ],
   "source": [
    "os.chdir(os.path.dirname(current_dir))\n",
    "print(\"You set a new current directory\")"
   ]
  },
  {
   "cell_type": "markdown",
   "id": "bddfb0ea",
   "metadata": {},
   "source": [
    "Confirm the new current directory"
   ]
  },
  {
   "cell_type": "code",
   "execution_count": 5,
   "id": "d4f9fc2a",
   "metadata": {},
   "outputs": [
    {
     "data": {
      "text/plain": [
       "'c:\\\\Users\\\\amyno\\\\OneDrive\\\\Documents\\\\CherryLeafProject\\\\milestone-project-mildew-detection-in-cherry-leaves'"
      ]
     },
     "execution_count": 5,
     "metadata": {},
     "output_type": "execute_result"
    }
   ],
   "source": [
    "current_dir = os.getcwd()\n",
    "current_dir"
   ]
  },
  {
   "cell_type": "markdown",
   "id": "04fd2565",
   "metadata": {},
   "source": [
    "---"
   ]
  },
  {
   "cell_type": "markdown",
   "id": "ea349051",
   "metadata": {},
   "source": [
    "# Load image datasets"
   ]
  },
  {
   "cell_type": "markdown",
   "id": "73805a4f",
   "metadata": {},
   "source": [
    "Load the preprocessed cherry leaf images from the inputs/dataset directory using TensorFlow.\n",
    "\n",
    "TensorFlow's image-data-set-from-directory function will efficiently feed the data into the model in batches, while also keeping the images labelled and shuffled automatically"
   ]
  },
  {
   "cell_type": "markdown",
   "id": "45ad9a01",
   "metadata": {},
   "source": [
    "Install tensorflow"
   ]
  },
  {
   "cell_type": "code",
   "execution_count": 6,
   "id": "d574f348",
   "metadata": {},
   "outputs": [
    {
     "name": "stdout",
     "output_type": "stream",
     "text": [
      "Requirement already satisfied: tensorflow in c:\\users\\amyno\\onedrive\\documents\\cherryleafproject\\milestone-project-mildew-detection-in-cherry-leaves\\venv\\lib\\site-packages (2.19.0)\n",
      "Requirement already satisfied: absl-py>=1.0.0 in c:\\users\\amyno\\onedrive\\documents\\cherryleafproject\\milestone-project-mildew-detection-in-cherry-leaves\\venv\\lib\\site-packages (from tensorflow) (2.2.2)\n",
      "Requirement already satisfied: astunparse>=1.6.0 in c:\\users\\amyno\\onedrive\\documents\\cherryleafproject\\milestone-project-mildew-detection-in-cherry-leaves\\venv\\lib\\site-packages (from tensorflow) (1.6.3)\n",
      "Requirement already satisfied: flatbuffers>=24.3.25 in c:\\users\\amyno\\onedrive\\documents\\cherryleafproject\\milestone-project-mildew-detection-in-cherry-leaves\\venv\\lib\\site-packages (from tensorflow) (25.2.10)\n",
      "Requirement already satisfied: gast!=0.5.0,!=0.5.1,!=0.5.2,>=0.2.1 in c:\\users\\amyno\\onedrive\\documents\\cherryleafproject\\milestone-project-mildew-detection-in-cherry-leaves\\venv\\lib\\site-packages (from tensorflow) (0.6.0)\n",
      "Requirement already satisfied: google-pasta>=0.1.1 in c:\\users\\amyno\\onedrive\\documents\\cherryleafproject\\milestone-project-mildew-detection-in-cherry-leaves\\venv\\lib\\site-packages (from tensorflow) (0.2.0)\n",
      "Requirement already satisfied: libclang>=13.0.0 in c:\\users\\amyno\\onedrive\\documents\\cherryleafproject\\milestone-project-mildew-detection-in-cherry-leaves\\venv\\lib\\site-packages (from tensorflow) (18.1.1)\n",
      "Requirement already satisfied: opt-einsum>=2.3.2 in c:\\users\\amyno\\onedrive\\documents\\cherryleafproject\\milestone-project-mildew-detection-in-cherry-leaves\\venv\\lib\\site-packages (from tensorflow) (3.4.0)\n",
      "Requirement already satisfied: packaging in c:\\users\\amyno\\onedrive\\documents\\cherryleafproject\\milestone-project-mildew-detection-in-cherry-leaves\\venv\\lib\\site-packages (from tensorflow) (24.2)\n",
      "Requirement already satisfied: protobuf!=4.21.0,!=4.21.1,!=4.21.2,!=4.21.3,!=4.21.4,!=4.21.5,<6.0.0dev,>=3.20.3 in c:\\users\\amyno\\onedrive\\documents\\cherryleafproject\\milestone-project-mildew-detection-in-cherry-leaves\\venv\\lib\\site-packages (from tensorflow) (4.25.6)\n",
      "Requirement already satisfied: requests<3,>=2.21.0 in c:\\users\\amyno\\onedrive\\documents\\cherryleafproject\\milestone-project-mildew-detection-in-cherry-leaves\\venv\\lib\\site-packages (from tensorflow) (2.32.3)\n",
      "Requirement already satisfied: setuptools in c:\\users\\amyno\\onedrive\\documents\\cherryleafproject\\milestone-project-mildew-detection-in-cherry-leaves\\venv\\lib\\site-packages (from tensorflow) (57.4.0)\n",
      "Requirement already satisfied: six>=1.12.0 in c:\\users\\amyno\\onedrive\\documents\\cherryleafproject\\milestone-project-mildew-detection-in-cherry-leaves\\venv\\lib\\site-packages (from tensorflow) (1.17.0)\n",
      "Requirement already satisfied: termcolor>=1.1.0 in c:\\users\\amyno\\onedrive\\documents\\cherryleafproject\\milestone-project-mildew-detection-in-cherry-leaves\\venv\\lib\\site-packages (from tensorflow) (3.0.1)\n",
      "Requirement already satisfied: typing-extensions>=3.6.6 in c:\\users\\amyno\\onedrive\\documents\\cherryleafproject\\milestone-project-mildew-detection-in-cherry-leaves\\venv\\lib\\site-packages (from tensorflow) (4.13.2)\n",
      "Requirement already satisfied: wrapt>=1.11.0 in c:\\users\\amyno\\onedrive\\documents\\cherryleafproject\\milestone-project-mildew-detection-in-cherry-leaves\\venv\\lib\\site-packages (from tensorflow) (1.17.2)\n",
      "Requirement already satisfied: grpcio<2.0,>=1.24.3 in c:\\users\\amyno\\onedrive\\documents\\cherryleafproject\\milestone-project-mildew-detection-in-cherry-leaves\\venv\\lib\\site-packages (from tensorflow) (1.71.0)\n",
      "Requirement already satisfied: tensorboard~=2.19.0 in c:\\users\\amyno\\onedrive\\documents\\cherryleafproject\\milestone-project-mildew-detection-in-cherry-leaves\\venv\\lib\\site-packages (from tensorflow) (2.19.0)\n",
      "Requirement already satisfied: keras>=3.5.0 in c:\\users\\amyno\\onedrive\\documents\\cherryleafproject\\milestone-project-mildew-detection-in-cherry-leaves\\venv\\lib\\site-packages (from tensorflow) (3.9.2)\n",
      "Requirement already satisfied: numpy<2.2.0,>=1.26.0 in c:\\users\\amyno\\onedrive\\documents\\cherryleafproject\\milestone-project-mildew-detection-in-cherry-leaves\\venv\\lib\\site-packages (from tensorflow) (1.26.1)\n",
      "Requirement already satisfied: h5py>=3.11.0 in c:\\users\\amyno\\onedrive\\documents\\cherryleafproject\\milestone-project-mildew-detection-in-cherry-leaves\\venv\\lib\\site-packages (from tensorflow) (3.13.0)\n",
      "Requirement already satisfied: ml-dtypes<1.0.0,>=0.5.1 in c:\\users\\amyno\\onedrive\\documents\\cherryleafproject\\milestone-project-mildew-detection-in-cherry-leaves\\venv\\lib\\site-packages (from tensorflow) (0.5.1)\n",
      "Requirement already satisfied: tensorflow-io-gcs-filesystem>=0.23.1 in c:\\users\\amyno\\onedrive\\documents\\cherryleafproject\\milestone-project-mildew-detection-in-cherry-leaves\\venv\\lib\\site-packages (from tensorflow) (0.31.0)\n",
      "Requirement already satisfied: wheel<1.0,>=0.23.0 in c:\\users\\amyno\\onedrive\\documents\\cherryleafproject\\milestone-project-mildew-detection-in-cherry-leaves\\venv\\lib\\site-packages (from astunparse>=1.6.0->tensorflow) (0.45.1)\n",
      "Requirement already satisfied: rich in c:\\users\\amyno\\onedrive\\documents\\cherryleafproject\\milestone-project-mildew-detection-in-cherry-leaves\\venv\\lib\\site-packages (from keras>=3.5.0->tensorflow) (13.9.4)\n",
      "Requirement already satisfied: namex in c:\\users\\amyno\\onedrive\\documents\\cherryleafproject\\milestone-project-mildew-detection-in-cherry-leaves\\venv\\lib\\site-packages (from keras>=3.5.0->tensorflow) (0.0.8)\n",
      "Requirement already satisfied: optree in c:\\users\\amyno\\onedrive\\documents\\cherryleafproject\\milestone-project-mildew-detection-in-cherry-leaves\\venv\\lib\\site-packages (from keras>=3.5.0->tensorflow) (0.15.0)\n",
      "Requirement already satisfied: charset-normalizer<4,>=2 in c:\\users\\amyno\\onedrive\\documents\\cherryleafproject\\milestone-project-mildew-detection-in-cherry-leaves\\venv\\lib\\site-packages (from requests<3,>=2.21.0->tensorflow) (3.4.1)\n",
      "Requirement already satisfied: idna<4,>=2.5 in c:\\users\\amyno\\onedrive\\documents\\cherryleafproject\\milestone-project-mildew-detection-in-cherry-leaves\\venv\\lib\\site-packages (from requests<3,>=2.21.0->tensorflow) (3.10)\n",
      "Requirement already satisfied: urllib3<3,>=1.21.1 in c:\\users\\amyno\\onedrive\\documents\\cherryleafproject\\milestone-project-mildew-detection-in-cherry-leaves\\venv\\lib\\site-packages (from requests<3,>=2.21.0->tensorflow) (2.4.0)\n",
      "Requirement already satisfied: certifi>=2017.4.17 in c:\\users\\amyno\\onedrive\\documents\\cherryleafproject\\milestone-project-mildew-detection-in-cherry-leaves\\venv\\lib\\site-packages (from requests<3,>=2.21.0->tensorflow) (2025.1.31)\n",
      "Requirement already satisfied: markdown>=2.6.8 in c:\\users\\amyno\\onedrive\\documents\\cherryleafproject\\milestone-project-mildew-detection-in-cherry-leaves\\venv\\lib\\site-packages (from tensorboard~=2.19.0->tensorflow) (3.8)\n",
      "Requirement already satisfied: tensorboard-data-server<0.8.0,>=0.7.0 in c:\\users\\amyno\\onedrive\\documents\\cherryleafproject\\milestone-project-mildew-detection-in-cherry-leaves\\venv\\lib\\site-packages (from tensorboard~=2.19.0->tensorflow) (0.7.2)\n",
      "Requirement already satisfied: werkzeug>=1.0.1 in c:\\users\\amyno\\onedrive\\documents\\cherryleafproject\\milestone-project-mildew-detection-in-cherry-leaves\\venv\\lib\\site-packages (from tensorboard~=2.19.0->tensorflow) (3.1.3)\n",
      "Requirement already satisfied: MarkupSafe>=2.1.1 in c:\\users\\amyno\\onedrive\\documents\\cherryleafproject\\milestone-project-mildew-detection-in-cherry-leaves\\venv\\lib\\site-packages (from werkzeug>=1.0.1->tensorboard~=2.19.0->tensorflow) (3.0.2)\n",
      "Requirement already satisfied: markdown-it-py>=2.2.0 in c:\\users\\amyno\\onedrive\\documents\\cherryleafproject\\milestone-project-mildew-detection-in-cherry-leaves\\venv\\lib\\site-packages (from rich->keras>=3.5.0->tensorflow) (3.0.0)\n",
      "Requirement already satisfied: pygments<3.0.0,>=2.13.0 in c:\\users\\amyno\\onedrive\\documents\\cherryleafproject\\milestone-project-mildew-detection-in-cherry-leaves\\venv\\lib\\site-packages (from rich->keras>=3.5.0->tensorflow) (2.19.1)\n",
      "Requirement already satisfied: mdurl~=0.1 in c:\\users\\amyno\\onedrive\\documents\\cherryleafproject\\milestone-project-mildew-detection-in-cherry-leaves\\venv\\lib\\site-packages (from markdown-it-py>=2.2.0->rich->keras>=3.5.0->tensorflow) (0.1.2)\n",
      "Note: you may need to restart the kernel to use updated packages.\n"
     ]
    },
    {
     "name": "stderr",
     "output_type": "stream",
     "text": [
      "\n",
      "[notice] A new release of pip is available: 24.3.1 -> 25.1\n",
      "[notice] To update, run: python.exe -m pip install --upgrade pip\n"
     ]
    }
   ],
   "source": [
    "pip install tensorflow"
   ]
  },
  {
   "cell_type": "markdown",
   "id": "fd2f97d7",
   "metadata": {},
   "source": [
    "Import tensorflow's image_dataset_from_directory"
   ]
  },
  {
   "cell_type": "code",
   "execution_count": 7,
   "id": "5f2e7931",
   "metadata": {},
   "outputs": [],
   "source": [
    "from tensorflow.keras.utils import image_dataset_from_directory"
   ]
  },
  {
   "cell_type": "markdown",
   "id": "94e60bca",
   "metadata": {},
   "source": [
    "Determine batch size and image size"
   ]
  },
  {
   "cell_type": "code",
   "execution_count": 8,
   "id": "f182f85d",
   "metadata": {},
   "outputs": [],
   "source": [
    "img_size = (256, 256)\n",
    "batch_size = 32"
   ]
  },
  {
   "cell_type": "markdown",
   "id": "415f311d",
   "metadata": {},
   "source": [
    "The most common batch size (how many images the model will process at one time) is 32. This is a sensible number for this project. Whilst it may take longer, the model will be more accurate and less susceptable to overfitting\n",
    "\n",
    "The image size was checked during the data prep notebook, but it is a good idea to put extra safeguards in place "
   ]
  },
  {
   "cell_type": "markdown",
   "id": "3ca0ee70",
   "metadata": {},
   "source": [
    "Load training, validation and test datasets from inputs directory"
   ]
  },
  {
   "cell_type": "code",
   "execution_count": null,
   "id": "2493ad85",
   "metadata": {},
   "outputs": [
    {
     "name": "stdout",
     "output_type": "stream",
     "text": [
      "Found 2944 files belonging to 2 classes.\n"
     ]
    }
   ],
   "source": [
    "train_ds = image_dataset_from_directory( #code helpfully inspired by Keras (ref. in readme)\n",
    "    \"inputs/dataset/train\",\n",
    "    labels=\"inferred\",\n",
    "    label_mode=\"binary\", \n",
    "    image_size=img_size,\n",
    "    batch_size=batch_size,\n",
    "    seed=123\n",
    ")"
   ]
  },
  {
   "cell_type": "code",
   "execution_count": 10,
   "id": "a8795c10",
   "metadata": {},
   "outputs": [
    {
     "name": "stdout",
     "output_type": "stream",
     "text": [
      "Found 632 files belonging to 2 classes.\n"
     ]
    }
   ],
   "source": [
    "val_ds = image_dataset_from_directory(\n",
    "    \"inputs/dataset/val\",\n",
    "    labels=\"inferred\",\n",
    "    label_mode=\"binary\",\n",
    "    image_size=img_size,\n",
    "    batch_size=batch_size,\n",
    "    seed=123\n",
    ")"
   ]
  },
  {
   "cell_type": "code",
   "execution_count": 11,
   "id": "72320ce5",
   "metadata": {},
   "outputs": [
    {
     "name": "stdout",
     "output_type": "stream",
     "text": [
      "Found 632 files belonging to 2 classes.\n"
     ]
    }
   ],
   "source": [
    "test_ds = image_dataset_from_directory(\n",
    "    \"inputs/dataset/test\",\n",
    "    labels=\"inferred\",\n",
    "    label_mode=\"binary\",\n",
    "    image_size=img_size,\n",
    "    batch_size=batch_size,\n",
    "    seed=123\n",
    ")"
   ]
  },
  {
   "cell_type": "markdown",
   "id": "1b53fe9e",
   "metadata": {},
   "source": [
    "All of the datasets are loaded and are showing the expected number of images in each, with the 2 classes referring to the healthy and powdery mildew classes"
   ]
  },
  {
   "cell_type": "markdown",
   "id": "4cf07a5a",
   "metadata": {},
   "source": [
    "---"
   ]
  },
  {
   "cell_type": "markdown",
   "id": "31070e82",
   "metadata": {},
   "source": [
    "### Credits\n",
    "* TensorFlow tutorial\n",
    "* Keras documentation"
   ]
  },
  {
   "cell_type": "markdown",
   "id": "7bcedfd6",
   "metadata": {},
   "source": [
    "---"
   ]
  }
 ],
 "metadata": {
  "kernelspec": {
   "display_name": "venv",
   "language": "python",
   "name": "python3"
  },
  "language_info": {
   "codemirror_mode": {
    "name": "ipython",
    "version": 3
   },
   "file_extension": ".py",
   "mimetype": "text/x-python",
   "name": "python",
   "nbconvert_exporter": "python",
   "pygments_lexer": "ipython3",
   "version": "3.10.0"
  }
 },
 "nbformat": 4,
 "nbformat_minor": 5
}
