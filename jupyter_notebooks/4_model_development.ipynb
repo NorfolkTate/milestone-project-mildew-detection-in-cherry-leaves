{
 "cells": [
  {
   "cell_type": "markdown",
   "id": "2f3b31ba",
   "metadata": {},
   "source": [
    "# **4 – Model Developmemt**"
   ]
  },
  {
   "cell_type": "markdown",
   "id": "d74c0093",
   "metadata": {},
   "source": [
    "## Objectives\n",
    "* Build and train a CNN to classify cherry leaf images as either healthy or diseased\n",
    "* Evaluate model performance and save it for deployment\n",
    "\n",
    "## Inputs\n",
    "* Train/val/test folders from inputs/dataset\n",
    "\n",
    "## Outputs\n",
    "- Trained CNN model\n",
    "- Accuracy/loss plots\n",
    "- Evaluation results on test set\n"
   ]
  },
  {
   "cell_type": "markdown",
   "id": "07f2d8e4",
   "metadata": {},
   "source": [
    "---"
   ]
  },
  {
   "cell_type": "markdown",
   "id": "a32a4422",
   "metadata": {},
   "source": [
    "# Change working directory"
   ]
  },
  {
   "cell_type": "markdown",
   "id": "52e6f3a1",
   "metadata": {},
   "source": [
    "Change the working directory from its current folder to its parent folder"
   ]
  },
  {
   "cell_type": "code",
   "execution_count": 1,
   "id": "80fd0eee",
   "metadata": {},
   "outputs": [
    {
     "data": {
      "text/plain": [
       "'c:\\\\Users\\\\amyno\\\\OneDrive\\\\Documents\\\\CherryLeafProject\\\\milestone-project-mildew-detection-in-cherry-leaves\\\\jupyter_notebooks'"
      ]
     },
     "execution_count": 1,
     "metadata": {},
     "output_type": "execute_result"
    }
   ],
   "source": [
    "import os\n",
    "current_dir = os.getcwd()\n",
    "current_dir"
   ]
  },
  {
   "cell_type": "markdown",
   "id": "524a18b4",
   "metadata": {},
   "source": [
    "Make the parent of the current directory the new current directory\n",
    "* os.path.dirname() gets the parent directory\n",
    "* os.chir() defines the new current directory"
   ]
  },
  {
   "cell_type": "code",
   "execution_count": 2,
   "id": "cb57b390",
   "metadata": {},
   "outputs": [
    {
     "name": "stdout",
     "output_type": "stream",
     "text": [
      "You set a new current directory\n"
     ]
    }
   ],
   "source": [
    "os.chdir(os.path.dirname(current_dir))\n",
    "print(\"You set a new current directory\")"
   ]
  },
  {
   "cell_type": "markdown",
   "id": "bddfb0ea",
   "metadata": {},
   "source": [
    "Confirm the new current directory"
   ]
  },
  {
   "cell_type": "code",
   "execution_count": 3,
   "id": "d4f9fc2a",
   "metadata": {},
   "outputs": [
    {
     "data": {
      "text/plain": [
       "'c:\\\\Users\\\\amyno\\\\OneDrive\\\\Documents\\\\CherryLeafProject\\\\milestone-project-mildew-detection-in-cherry-leaves'"
      ]
     },
     "execution_count": 3,
     "metadata": {},
     "output_type": "execute_result"
    }
   ],
   "source": [
    "current_dir = os.getcwd()\n",
    "current_dir"
   ]
  },
  {
   "cell_type": "markdown",
   "id": "04fd2565",
   "metadata": {},
   "source": [
    "---"
   ]
  },
  {
   "cell_type": "markdown",
   "id": "ea349051",
   "metadata": {},
   "source": [
    "# Load image datasets"
   ]
  },
  {
   "cell_type": "markdown",
   "id": "73805a4f",
   "metadata": {},
   "source": [
    "Load the preprocessed cherry leaf images from the inputs/dataset directory using TensorFlow.\n",
    "\n",
    "TensorFlow's image-data-set-from-directory function will efficiently feed the data into the model in batches, while also keeping the images labelled and shuffled automatically"
   ]
  },
  {
   "cell_type": "code",
   "execution_count": 7,
   "id": "5dd8f1b1",
   "metadata": {},
   "outputs": [
    {
     "name": "stdout",
     "output_type": "stream",
     "text": [
      "Collecting tensorflow-cpu\n",
      "  Downloading tensorflow_cpu-2.19.0-cp310-cp310-win_amd64.whl.metadata (4.1 kB)\n",
      "Requirement already satisfied: absl-py>=1.0.0 in c:\\users\\amyno\\onedrive\\documents\\cherryleafproject\\milestone-project-mildew-detection-in-cherry-leaves\\venv\\lib\\site-packages (from tensorflow-cpu) (2.2.2)\n",
      "Requirement already satisfied: astunparse>=1.6.0 in c:\\users\\amyno\\onedrive\\documents\\cherryleafproject\\milestone-project-mildew-detection-in-cherry-leaves\\venv\\lib\\site-packages (from tensorflow-cpu) (1.6.3)\n",
      "Requirement already satisfied: flatbuffers>=24.3.25 in c:\\users\\amyno\\onedrive\\documents\\cherryleafproject\\milestone-project-mildew-detection-in-cherry-leaves\\venv\\lib\\site-packages (from tensorflow-cpu) (25.2.10)\n",
      "Requirement already satisfied: gast!=0.5.0,!=0.5.1,!=0.5.2,>=0.2.1 in c:\\users\\amyno\\onedrive\\documents\\cherryleafproject\\milestone-project-mildew-detection-in-cherry-leaves\\venv\\lib\\site-packages (from tensorflow-cpu) (0.6.0)\n",
      "Requirement already satisfied: google-pasta>=0.1.1 in c:\\users\\amyno\\onedrive\\documents\\cherryleafproject\\milestone-project-mildew-detection-in-cherry-leaves\\venv\\lib\\site-packages (from tensorflow-cpu) (0.2.0)\n",
      "Requirement already satisfied: libclang>=13.0.0 in c:\\users\\amyno\\onedrive\\documents\\cherryleafproject\\milestone-project-mildew-detection-in-cherry-leaves\\venv\\lib\\site-packages (from tensorflow-cpu) (18.1.1)\n",
      "Requirement already satisfied: opt-einsum>=2.3.2 in c:\\users\\amyno\\onedrive\\documents\\cherryleafproject\\milestone-project-mildew-detection-in-cherry-leaves\\venv\\lib\\site-packages (from tensorflow-cpu) (3.4.0)\n",
      "Requirement already satisfied: packaging in c:\\users\\amyno\\onedrive\\documents\\cherryleafproject\\milestone-project-mildew-detection-in-cherry-leaves\\venv\\lib\\site-packages (from tensorflow-cpu) (24.2)\n",
      "Requirement already satisfied: protobuf!=4.21.0,!=4.21.1,!=4.21.2,!=4.21.3,!=4.21.4,!=4.21.5,<6.0.0dev,>=3.20.3 in c:\\users\\amyno\\onedrive\\documents\\cherryleafproject\\milestone-project-mildew-detection-in-cherry-leaves\\venv\\lib\\site-packages (from tensorflow-cpu) (4.25.6)\n",
      "Requirement already satisfied: requests<3,>=2.21.0 in c:\\users\\amyno\\onedrive\\documents\\cherryleafproject\\milestone-project-mildew-detection-in-cherry-leaves\\venv\\lib\\site-packages (from tensorflow-cpu) (2.32.3)\n",
      "Requirement already satisfied: setuptools in c:\\users\\amyno\\onedrive\\documents\\cherryleafproject\\milestone-project-mildew-detection-in-cherry-leaves\\venv\\lib\\site-packages (from tensorflow-cpu) (57.4.0)\n",
      "Requirement already satisfied: six>=1.12.0 in c:\\users\\amyno\\onedrive\\documents\\cherryleafproject\\milestone-project-mildew-detection-in-cherry-leaves\\venv\\lib\\site-packages (from tensorflow-cpu) (1.17.0)\n",
      "Requirement already satisfied: termcolor>=1.1.0 in c:\\users\\amyno\\onedrive\\documents\\cherryleafproject\\milestone-project-mildew-detection-in-cherry-leaves\\venv\\lib\\site-packages (from tensorflow-cpu) (3.0.1)\n",
      "Requirement already satisfied: typing-extensions>=3.6.6 in c:\\users\\amyno\\onedrive\\documents\\cherryleafproject\\milestone-project-mildew-detection-in-cherry-leaves\\venv\\lib\\site-packages (from tensorflow-cpu) (4.13.2)\n",
      "Requirement already satisfied: wrapt>=1.11.0 in c:\\users\\amyno\\onedrive\\documents\\cherryleafproject\\milestone-project-mildew-detection-in-cherry-leaves\\venv\\lib\\site-packages (from tensorflow-cpu) (1.17.2)\n",
      "Requirement already satisfied: grpcio<2.0,>=1.24.3 in c:\\users\\amyno\\onedrive\\documents\\cherryleafproject\\milestone-project-mildew-detection-in-cherry-leaves\\venv\\lib\\site-packages (from tensorflow-cpu) (1.71.0)\n",
      "Requirement already satisfied: tensorboard~=2.19.0 in c:\\users\\amyno\\onedrive\\documents\\cherryleafproject\\milestone-project-mildew-detection-in-cherry-leaves\\venv\\lib\\site-packages (from tensorflow-cpu) (2.19.0)\n",
      "Requirement already satisfied: keras>=3.5.0 in c:\\users\\amyno\\onedrive\\documents\\cherryleafproject\\milestone-project-mildew-detection-in-cherry-leaves\\venv\\lib\\site-packages (from tensorflow-cpu) (3.9.2)\n",
      "Requirement already satisfied: numpy<2.2.0,>=1.26.0 in c:\\users\\amyno\\onedrive\\documents\\cherryleafproject\\milestone-project-mildew-detection-in-cherry-leaves\\venv\\lib\\site-packages (from tensorflow-cpu) (1.26.1)\n",
      "Requirement already satisfied: h5py>=3.11.0 in c:\\users\\amyno\\onedrive\\documents\\cherryleafproject\\milestone-project-mildew-detection-in-cherry-leaves\\venv\\lib\\site-packages (from tensorflow-cpu) (3.13.0)\n",
      "Requirement already satisfied: ml-dtypes<1.0.0,>=0.5.1 in c:\\users\\amyno\\onedrive\\documents\\cherryleafproject\\milestone-project-mildew-detection-in-cherry-leaves\\venv\\lib\\site-packages (from tensorflow-cpu) (0.5.1)\n",
      "Requirement already satisfied: tensorflow-io-gcs-filesystem>=0.23.1 in c:\\users\\amyno\\onedrive\\documents\\cherryleafproject\\milestone-project-mildew-detection-in-cherry-leaves\\venv\\lib\\site-packages (from tensorflow-cpu) (0.31.0)\n",
      "Requirement already satisfied: wheel<1.0,>=0.23.0 in c:\\users\\amyno\\onedrive\\documents\\cherryleafproject\\milestone-project-mildew-detection-in-cherry-leaves\\venv\\lib\\site-packages (from astunparse>=1.6.0->tensorflow-cpu) (0.45.1)\n",
      "Requirement already satisfied: rich in c:\\users\\amyno\\onedrive\\documents\\cherryleafproject\\milestone-project-mildew-detection-in-cherry-leaves\\venv\\lib\\site-packages (from keras>=3.5.0->tensorflow-cpu) (13.9.4)\n",
      "Requirement already satisfied: namex in c:\\users\\amyno\\onedrive\\documents\\cherryleafproject\\milestone-project-mildew-detection-in-cherry-leaves\\venv\\lib\\site-packages (from keras>=3.5.0->tensorflow-cpu) (0.0.8)\n",
      "Requirement already satisfied: optree in c:\\users\\amyno\\onedrive\\documents\\cherryleafproject\\milestone-project-mildew-detection-in-cherry-leaves\\venv\\lib\\site-packages (from keras>=3.5.0->tensorflow-cpu) (0.15.0)\n",
      "Requirement already satisfied: charset-normalizer<4,>=2 in c:\\users\\amyno\\onedrive\\documents\\cherryleafproject\\milestone-project-mildew-detection-in-cherry-leaves\\venv\\lib\\site-packages (from requests<3,>=2.21.0->tensorflow-cpu) (3.4.1)\n",
      "Requirement already satisfied: idna<4,>=2.5 in c:\\users\\amyno\\onedrive\\documents\\cherryleafproject\\milestone-project-mildew-detection-in-cherry-leaves\\venv\\lib\\site-packages (from requests<3,>=2.21.0->tensorflow-cpu) (3.10)\n",
      "Requirement already satisfied: urllib3<3,>=1.21.1 in c:\\users\\amyno\\onedrive\\documents\\cherryleafproject\\milestone-project-mildew-detection-in-cherry-leaves\\venv\\lib\\site-packages (from requests<3,>=2.21.0->tensorflow-cpu) (2.4.0)\n",
      "Requirement already satisfied: certifi>=2017.4.17 in c:\\users\\amyno\\onedrive\\documents\\cherryleafproject\\milestone-project-mildew-detection-in-cherry-leaves\\venv\\lib\\site-packages (from requests<3,>=2.21.0->tensorflow-cpu) (2025.1.31)\n",
      "Requirement already satisfied: markdown>=2.6.8 in c:\\users\\amyno\\onedrive\\documents\\cherryleafproject\\milestone-project-mildew-detection-in-cherry-leaves\\venv\\lib\\site-packages (from tensorboard~=2.19.0->tensorflow-cpu) (3.8)\n",
      "Requirement already satisfied: tensorboard-data-server<0.8.0,>=0.7.0 in c:\\users\\amyno\\onedrive\\documents\\cherryleafproject\\milestone-project-mildew-detection-in-cherry-leaves\\venv\\lib\\site-packages (from tensorboard~=2.19.0->tensorflow-cpu) (0.7.2)\n",
      "Requirement already satisfied: werkzeug>=1.0.1 in c:\\users\\amyno\\onedrive\\documents\\cherryleafproject\\milestone-project-mildew-detection-in-cherry-leaves\\venv\\lib\\site-packages (from tensorboard~=2.19.0->tensorflow-cpu) (3.1.3)\n",
      "Requirement already satisfied: MarkupSafe>=2.1.1 in c:\\users\\amyno\\onedrive\\documents\\cherryleafproject\\milestone-project-mildew-detection-in-cherry-leaves\\venv\\lib\\site-packages (from werkzeug>=1.0.1->tensorboard~=2.19.0->tensorflow-cpu) (3.0.2)\n",
      "Requirement already satisfied: markdown-it-py>=2.2.0 in c:\\users\\amyno\\onedrive\\documents\\cherryleafproject\\milestone-project-mildew-detection-in-cherry-leaves\\venv\\lib\\site-packages (from rich->keras>=3.5.0->tensorflow-cpu) (3.0.0)\n",
      "Requirement already satisfied: pygments<3.0.0,>=2.13.0 in c:\\users\\amyno\\onedrive\\documents\\cherryleafproject\\milestone-project-mildew-detection-in-cherry-leaves\\venv\\lib\\site-packages (from rich->keras>=3.5.0->tensorflow-cpu) (2.19.1)\n",
      "Requirement already satisfied: mdurl~=0.1 in c:\\users\\amyno\\onedrive\\documents\\cherryleafproject\\milestone-project-mildew-detection-in-cherry-leaves\\venv\\lib\\site-packages (from markdown-it-py>=2.2.0->rich->keras>=3.5.0->tensorflow-cpu) (0.1.2)\n",
      "Downloading tensorflow_cpu-2.19.0-cp310-cp310-win_amd64.whl (375.7 MB)\n",
      "   ---------------------------------------- 0.0/375.7 MB ? eta -:--:--\n",
      "    --------------------------------------- 8.1/375.7 MB 41.8 MB/s eta 0:00:09\n",
      "   -- ------------------------------------- 22.0/375.7 MB 55.6 MB/s eta 0:00:07\n",
      "   -- ------------------------------------- 24.1/375.7 MB 44.8 MB/s eta 0:00:08\n",
      "   --- ------------------------------------ 37.2/375.7 MB 45.5 MB/s eta 0:00:08\n",
      "   ---- ----------------------------------- 41.9/375.7 MB 42.3 MB/s eta 0:00:08\n",
      "   ---- ----------------------------------- 46.4/375.7 MB 37.4 MB/s eta 0:00:09\n",
      "   ------ --------------------------------- 58.7/375.7 MB 40.7 MB/s eta 0:00:08\n",
      "   ------- -------------------------------- 71.0/375.7 MB 42.7 MB/s eta 0:00:08\n",
      "   -------- ------------------------------- 80.7/375.7 MB 45.2 MB/s eta 0:00:07\n",
      "   --------- ------------------------------ 87.0/375.7 MB 42.1 MB/s eta 0:00:07\n",
      "   --------- ------------------------------ 91.2/375.7 MB 41.0 MB/s eta 0:00:07\n",
      "   ---------- ---------------------------- 101.7/375.7 MB 41.1 MB/s eta 0:00:07\n",
      "   ------------ -------------------------- 116.4/375.7 MB 43.7 MB/s eta 0:00:06\n",
      "   ------------ -------------------------- 122.7/375.7 MB 42.8 MB/s eta 0:00:06\n",
      "   ------------ -------------------------- 124.0/375.7 MB 39.8 MB/s eta 0:00:07\n",
      "   -------------- ------------------------ 138.4/375.7 MB 41.9 MB/s eta 0:00:06\n",
      "   --------------- ----------------------- 147.8/375.7 MB 42.2 MB/s eta 0:00:06\n",
      "   ---------------- ---------------------- 160.2/375.7 MB 42.8 MB/s eta 0:00:06\n",
      "   ----------------- --------------------- 171.4/375.7 MB 43.5 MB/s eta 0:00:05\n",
      "   ------------------ -------------------- 178.5/375.7 MB 43.0 MB/s eta 0:00:05\n",
      "   ------------------- ------------------- 187.2/375.7 MB 42.9 MB/s eta 0:00:05\n",
      "   -------------------- ------------------ 192.9/375.7 MB 42.4 MB/s eta 0:00:05\n",
      "   -------------------- ------------------ 201.9/375.7 MB 42.3 MB/s eta 0:00:05\n",
      "   --------------------- ----------------- 211.0/375.7 MB 42.4 MB/s eta 0:00:04\n",
      "   ---------------------- ---------------- 219.7/375.7 MB 42.3 MB/s eta 0:00:04\n",
      "   ----------------------- --------------- 228.1/375.7 MB 42.3 MB/s eta 0:00:04\n",
      "   ------------------------ -------------- 234.4/375.7 MB 41.8 MB/s eta 0:00:04\n",
      "   ------------------------- ------------- 243.5/375.7 MB 42.0 MB/s eta 0:00:04\n",
      "   -------------------------- ------------ 254.5/375.7 MB 42.3 MB/s eta 0:00:03\n",
      "   --------------------------- ----------- 260.3/375.7 MB 41.8 MB/s eta 0:00:03\n",
      "   --------------------------- ----------- 269.5/375.7 MB 42.0 MB/s eta 0:00:03\n",
      "   ---------------------------- ---------- 271.6/375.7 MB 41.9 MB/s eta 0:00:03\n",
      "   ---------------------------- ---------- 274.2/375.7 MB 39.8 MB/s eta 0:00:03\n",
      "   ----------------------------- --------- 281.5/375.7 MB 39.2 MB/s eta 0:00:03\n",
      "   ------------------------------ -------- 291.5/375.7 MB 39.9 MB/s eta 0:00:03\n",
      "   ------------------------------- ------- 298.8/375.7 MB 39.6 MB/s eta 0:00:02\n",
      "   -------------------------------- ------ 309.3/375.7 MB 41.0 MB/s eta 0:00:02\n",
      "   -------------------------------- ------ 317.5/375.7 MB 40.4 MB/s eta 0:00:02\n",
      "   ---------------------------------- ---- 328.5/375.7 MB 40.7 MB/s eta 0:00:02\n",
      "   ----------------------------------- --- 338.4/375.7 MB 40.1 MB/s eta 0:00:01\n",
      "   ------------------------------------ -- 350.2/375.7 MB 41.4 MB/s eta 0:00:01\n",
      "   ------------------------------------- - 357.6/375.7 MB 41.5 MB/s eta 0:00:01\n",
      "   --------------------------------------  368.1/375.7 MB 41.4 MB/s eta 0:00:01\n",
      "   --------------------------------------  375.7/375.7 MB 41.0 MB/s eta 0:00:01\n",
      "   --------------------------------------  375.7/375.7 MB 41.0 MB/s eta 0:00:01\n",
      "   --------------------------------------  375.7/375.7 MB 41.0 MB/s eta 0:00:01\n",
      "   --------------------------------------- 375.7/375.7 MB 37.9 MB/s eta 0:00:00\n",
      "Installing collected packages: tensorflow-cpu\n",
      "Note: you may need to restart the kernel to use updated packages.\n"
     ]
    },
    {
     "name": "stderr",
     "output_type": "stream",
     "text": [
      "ERROR: Could not install packages due to an OSError: [Errno 2] No such file or directory: 'c:\\\\Users\\\\amyno\\\\OneDrive\\\\Documents\\\\CherryLeafProject\\\\milestone-project-mildew-detection-in-cherry-leaves\\\\venv\\\\Lib\\\\site-packages\\\\tensorflow\\\\include\\\\external\\\\com_github_grpc_grpc\\\\src\\\\core\\\\tsi\\\\alts\\\\zero_copy_frame_protector\\\\alts_grpc_integrity_only_record_protocol.h'\n",
      "HINT: This error might have occurred since this system does not have Windows Long Path support enabled. You can find information on how to enable this at https://pip.pypa.io/warnings/enable-long-paths\n",
      "\n",
      "\n",
      "[notice] A new release of pip is available: 24.3.1 -> 25.1\n",
      "[notice] To update, run: python.exe -m pip install --upgrade pip\n"
     ]
    }
   ],
   "source": [
    "pip install tensorflow-cpu"
   ]
  },
  {
   "cell_type": "markdown",
   "id": "fd2f97d7",
   "metadata": {},
   "source": [
    "Import tensorflow's image_dataset_from_directory"
   ]
  },
  {
   "cell_type": "code",
   "execution_count": 6,
   "id": "5f2e7931",
   "metadata": {},
   "outputs": [
    {
     "ename": "ModuleNotFoundError",
     "evalue": "No module named 'tensorflow.python'",
     "output_type": "error",
     "traceback": [
      "\u001b[1;31m---------------------------------------------------------------------------\u001b[0m",
      "\u001b[1;31mModuleNotFoundError\u001b[0m                       Traceback (most recent call last)",
      "Cell \u001b[1;32mIn[6], line 1\u001b[0m\n\u001b[1;32m----> 1\u001b[0m \u001b[38;5;28;01mfrom\u001b[39;00m\u001b[38;5;250m \u001b[39m\u001b[38;5;21;01mtensorflow\u001b[39;00m\u001b[38;5;21;01m.\u001b[39;00m\u001b[38;5;21;01mkeras\u001b[39;00m\u001b[38;5;21;01m.\u001b[39;00m\u001b[38;5;21;01mutils\u001b[39;00m\u001b[38;5;250m \u001b[39m\u001b[38;5;28;01mimport\u001b[39;00m image_dataset_from_directory\n",
      "File \u001b[1;32mc:\\Users\\amyno\\OneDrive\\Documents\\CherryLeafProject\\milestone-project-mildew-detection-in-cherry-leaves\\venv\\lib\\site-packages\\tensorflow\\__init__.py:40\u001b[0m\n\u001b[0;32m     37\u001b[0m _os\u001b[38;5;241m.\u001b[39menviron\u001b[38;5;241m.\u001b[39msetdefault(\u001b[38;5;124m\"\u001b[39m\u001b[38;5;124mENABLE_RUNTIME_UPTIME_TELEMETRY\u001b[39m\u001b[38;5;124m\"\u001b[39m, \u001b[38;5;124m\"\u001b[39m\u001b[38;5;124m1\u001b[39m\u001b[38;5;124m\"\u001b[39m)\n\u001b[0;32m     39\u001b[0m \u001b[38;5;66;03m# Do not remove this line; See https://github.com/tensorflow/tensorflow/issues/42596\u001b[39;00m\n\u001b[1;32m---> 40\u001b[0m \u001b[38;5;28;01mfrom\u001b[39;00m\u001b[38;5;250m \u001b[39m\u001b[38;5;21;01mtensorflow\u001b[39;00m\u001b[38;5;21;01m.\u001b[39;00m\u001b[38;5;21;01mpython\u001b[39;00m\u001b[38;5;250m \u001b[39m\u001b[38;5;28;01mimport\u001b[39;00m pywrap_tensorflow \u001b[38;5;28;01mas\u001b[39;00m _pywrap_tensorflow  \u001b[38;5;66;03m# pylint: disable=unused-import\u001b[39;00m\n\u001b[0;32m     41\u001b[0m \u001b[38;5;28;01mfrom\u001b[39;00m\u001b[38;5;250m \u001b[39m\u001b[38;5;21;01mtensorflow\u001b[39;00m\u001b[38;5;21;01m.\u001b[39;00m\u001b[38;5;21;01mpython\u001b[39;00m\u001b[38;5;21;01m.\u001b[39;00m\u001b[38;5;21;01mtools\u001b[39;00m\u001b[38;5;250m \u001b[39m\u001b[38;5;28;01mimport\u001b[39;00m module_util \u001b[38;5;28;01mas\u001b[39;00m _module_util\n\u001b[0;32m     42\u001b[0m \u001b[38;5;28;01mfrom\u001b[39;00m\u001b[38;5;250m \u001b[39m\u001b[38;5;21;01mtensorflow\u001b[39;00m\u001b[38;5;21;01m.\u001b[39;00m\u001b[38;5;21;01mpython\u001b[39;00m\u001b[38;5;21;01m.\u001b[39;00m\u001b[38;5;21;01mutil\u001b[39;00m\u001b[38;5;21;01m.\u001b[39;00m\u001b[38;5;21;01mlazy_loader\u001b[39;00m\u001b[38;5;250m \u001b[39m\u001b[38;5;28;01mimport\u001b[39;00m KerasLazyLoader \u001b[38;5;28;01mas\u001b[39;00m _KerasLazyLoader\n",
      "\u001b[1;31mModuleNotFoundError\u001b[0m: No module named 'tensorflow.python'"
     ]
    }
   ],
   "source": [
    "from tensorflow.keras.utils import image_dataset_from_directory"
   ]
  },
  {
   "cell_type": "markdown",
   "id": "4cf07a5a",
   "metadata": {},
   "source": [
    "---"
   ]
  },
  {
   "cell_type": "markdown",
   "id": "31070e82",
   "metadata": {},
   "source": [
    "### Credits\n",
    "* TensorFlow tutorial"
   ]
  },
  {
   "cell_type": "markdown",
   "id": "7bcedfd6",
   "metadata": {},
   "source": [
    "---"
   ]
  }
 ],
 "metadata": {
  "kernelspec": {
   "display_name": "venv",
   "language": "python",
   "name": "python3"
  },
  "language_info": {
   "codemirror_mode": {
    "name": "ipython",
    "version": 3
   },
   "file_extension": ".py",
   "mimetype": "text/x-python",
   "name": "python",
   "nbconvert_exporter": "python",
   "pygments_lexer": "ipython3",
   "version": "3.10.0"
  }
 },
 "nbformat": 4,
 "nbformat_minor": 5
}
