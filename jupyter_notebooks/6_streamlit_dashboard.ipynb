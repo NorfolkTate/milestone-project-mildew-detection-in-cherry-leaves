{
 "cells": [
  {
   "cell_type": "markdown",
   "id": "c71e6d0d",
   "metadata": {},
   "source": [
    "# **6 – Streamlit app**"
   ]
  },
  {
   "cell_type": "markdown",
   "id": "20a3f07e",
   "metadata": {},
   "source": [
    "## Objectives\n",
    "* Deploy an interactive Streamlit dashboard for client visualising results\n",
    "* Provide a simple interface for users to upload leaf images\n",
    "\n",
    "## Inputs\n",
    "* Trained model \n",
    "* Test dataset\n",
    "\n",
    "## Outputs\n",
    "* A working Streamlit web app\n",
    "* Interactive image upload and prediction feature"
   ]
  },
  {
   "cell_type": "markdown",
   "id": "8df4387b",
   "metadata": {},
   "source": [
    "---"
   ]
  },
  {
   "cell_type": "markdown",
   "id": "4e29d56c",
   "metadata": {},
   "source": [
    "# Change working directory"
   ]
  },
  {
   "cell_type": "code",
   "execution_count": 1,
   "id": "96b09c3f",
   "metadata": {},
   "outputs": [
    {
     "name": "stdout",
     "output_type": "stream",
     "text": [
      " Current working directory is now: C:\\Users\\amyno\\OneDrive\\Documents\\CherryLeafProject\\milestone-project-mildew-detection-in-cherry-leaves\n"
     ]
    }
   ],
   "source": [
    "import os\n",
    "\n",
    "project_dir = r\"C:\\Users\\amyno\\OneDrive\\Documents\\CherryLeafProject\\milestone-project-mildew-detection-in-cherry-leaves\"\n",
    "\n",
    "os.chdir(project_dir)\n",
    "\n",
    "print(f\" Current working directory is now: {os.getcwd()}\")"
   ]
  },
  {
   "cell_type": "markdown",
   "id": "564403f7",
   "metadata": {},
   "source": [
    "---"
   ]
  },
  {
   "cell_type": "markdown",
   "id": "51779eb4",
   "metadata": {},
   "source": [
    "# Load model"
   ]
  },
  {
   "cell_type": "markdown",
   "id": "1182212d",
   "metadata": {},
   "source": [
    "Import streamlit and os"
   ]
  },
  {
   "cell_type": "code",
   "execution_count": null,
   "id": "f3fd1d65",
   "metadata": {},
   "outputs": [],
   "source": [
    "import streamlit as st\n",
    "import tensorflow as tf\n",
    "from tensorflow.keras.preprocessing import image\n",
    "import numpy as np\n",
    "import matplotlib.pyplot as plt\n",
    "import os\n",
    "from PIL import Imagem"
   ]
  },
  {
   "cell_type": "markdown",
   "id": "59a2dbcb",
   "metadata": {},
   "source": [
    "Load trained model"
   ]
  },
  {
   "cell_type": "code",
   "execution_count": 6,
   "id": "e6f10256",
   "metadata": {},
   "outputs": [
    {
     "name": "stdout",
     "output_type": "stream",
     "text": [
      "loaded successfully.\n"
     ]
    }
   ],
   "source": [
    "model = tf.keras.models.load_model(\"outputs/models/cherry_leaf_model.keras\")\n",
    "print(\"loaded successfully.\")"
   ]
  },
  {
   "cell_type": "markdown",
   "id": "c871c76f",
   "metadata": {},
   "source": [
    "---"
   ]
  },
  {
   "cell_type": "markdown",
   "id": "9a363cd0",
   "metadata": {},
   "source": [
    "# Check folder structure "
   ]
  },
  {
   "cell_type": "markdown",
   "id": "1258e9e9",
   "metadata": {},
   "source": [
    "Ensure the file structure is correct for streamlit app"
   ]
  },
  {
   "cell_type": "code",
   "execution_count": 10,
   "id": "5f46c6c0",
   "metadata": {},
   "outputs": [
    {
     "name": "stdout",
     "output_type": "stream",
     "text": [
      ".\n",
      ".devcontainer\n",
      ".git\n",
      "app_pages\n",
      "inputs\n",
      "jupyter_notebooks\n",
      "outputs\n",
      "venv\n",
      " .gitignore\n",
      " .python-version\n",
      " .slugignore\n",
      " app.py\n",
      " Procfile\n",
      " README.md\n",
      " requirements.txt\n",
      " setup.sh\n",
      ".\\venv\\Lib\\site-packages\\absl\n",
      "flags\n",
      "logging\n",
      "testing\n",
      "__pycache__\n",
      " app.py\n",
      " app.pyi\n",
      " command_name.py\n",
      " py.typed\n",
      " __init__.py\n",
      ".\\venv\\Lib\\site-packages\\prompt_toolkit\\filters\n",
      "__pycache__\n",
      " app.py\n",
      " base.py\n",
      " cli.py\n",
      " utils.py\n",
      " __init__.py\n",
      ".\\venv\\Lib\\site-packages\\pythonwin\\pywin\\framework\n",
      "editor\n",
      "__pycache__\n",
      " app.py\n",
      " bitmap.py\n",
      " cmdline.py\n",
      " dbgcommands.py\n",
      " dlgappcore.py\n",
      " help.py\n",
      " interact.py\n",
      " intpyapp.py\n",
      " intpydde.py\n",
      " scriptutils.py\n",
      " sgrepmdi.py\n",
      " startup.py\n",
      " stdin.py\n",
      " toolmenu.py\n",
      " window.py\n",
      " winout.py\n",
      " __init__.py\n",
      ".\\venv\\Lib\\site-packages\\tensorboard\\compat\\tensorflow_stub\n",
      "compat\n",
      "io\n",
      "__pycache__\n",
      " app.py\n",
      " dtypes.py\n",
      " errors.py\n",
      " error_codes.py\n",
      " flags.py\n",
      " pywrap_tensorflow.py\n",
      " tensor_shape.py\n",
      " __init__.py\n",
      ".\\venv\\Lib\\site-packages\\tensorflow\\python\\platform\n",
      "__pycache__\n",
      " analytics.py\n",
      " app.py\n",
      " benchmark.py\n",
      " build_info.py\n",
      " device_context.py\n",
      " flags.py\n",
      " gfile.py\n",
      " googletest.py\n",
      " remote_utils.py\n",
      " resource_loader.py\n",
      " self_check.py\n",
      " sysconfig.py\n",
      " test.py\n",
      " tf_logging.py\n",
      " _pywrap_cpu_feature_guard.pyd\n",
      " _pywrap_cpu_feature_guard.pyi\n",
      " _pywrap_stacktrace_handler.pyd\n",
      " _pywrap_stacktrace_handler.pyi\n",
      " _pywrap_tf2.pyd\n",
      " _pywrap_tf2.pyi\n",
      " __init__.py\n"
     ]
    }
   ],
   "source": [
    "\n",
    "for root, dirs, files in os.walk(\".\", topdown=True):\n",
    "    if \"app.py\" in files or \"app_pages\" in dirs:\n",
    "        print(f\"{root}\")\n",
    "        for d in dirs:\n",
    "            print(f\"{d}\")\n",
    "        for f in files:\n",
    "            print(f\" {f}\")\n"
   ]
  }
 ],
 "metadata": {
  "kernelspec": {
   "display_name": "venv",
   "language": "python",
   "name": "python3"
  },
  "language_info": {
   "codemirror_mode": {
    "name": "ipython",
    "version": 3
   },
   "file_extension": ".py",
   "mimetype": "text/x-python",
   "name": "python",
   "nbconvert_exporter": "python",
   "pygments_lexer": "ipython3",
   "version": "3.10.0"
  }
 },
 "nbformat": 4,
 "nbformat_minor": 5
}
