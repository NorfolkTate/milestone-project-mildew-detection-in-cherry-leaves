{
 "cells": [
  {
   "cell_type": "markdown",
   "id": "fd60291d",
   "metadata": {},
   "source": [
    "# **5 – Model Evaluation**"
   ]
  },
  {
   "cell_type": "markdown",
   "id": "e0fd4bf1",
   "metadata": {},
   "source": [
    "## Objectives\n",
    "* Evaluate how well the trained CNN model performs on test data set\n",
    "* Generate key performance metrics (accuracy, loss, confusion matrix, classification report)\n",
    "\n",
    "## Inputs\n",
    "* Trained model \n",
    "* Test dataset\n",
    "\n",
    "## Outputs"
   ]
  }
 ],
 "metadata": {
  "language_info": {
   "name": "python"
  }
 },
 "nbformat": 4,
 "nbformat_minor": 5
}
