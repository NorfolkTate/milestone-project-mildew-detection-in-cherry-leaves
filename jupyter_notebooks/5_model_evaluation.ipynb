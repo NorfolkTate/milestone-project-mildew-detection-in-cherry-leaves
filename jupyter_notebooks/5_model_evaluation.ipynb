{
 "cells": [
  {
   "cell_type": "markdown",
   "id": "fd60291d",
   "metadata": {},
   "source": [
    "# **5 – Model Evaluation**"
   ]
  },
  {
   "cell_type": "markdown",
   "id": "e0fd4bf1",
   "metadata": {},
   "source": [
    "## Objectives\n",
    "* Evaluate how well the trained CNN model performs on test data set\n",
    "* Generate key performance metrics (accuracy, loss, confusion matrix, classification report)\n",
    "\n",
    "## Inputs\n",
    "* Trained model \n",
    "* Test dataset\n",
    "\n",
    "## Outputs\n",
    "* Evaluation metrics \n",
    "* Learning curve plots \n",
    "* Predictions on test images"
   ]
  },
  {
   "cell_type": "markdown",
   "id": "179b8c59",
   "metadata": {},
   "source": [
    "---"
   ]
  },
  {
   "cell_type": "markdown",
   "id": "6d726989",
   "metadata": {},
   "source": [
    "# Change working directory"
   ]
  },
  {
   "cell_type": "markdown",
   "id": "02970ee8",
   "metadata": {},
   "source": [
    "Change the working directory from its current folder to its parent folder"
   ]
  },
  {
   "cell_type": "code",
   "execution_count": 1,
   "id": "13db3927",
   "metadata": {},
   "outputs": [
    {
     "name": "stdout",
     "output_type": "stream",
     "text": [
      " Current working directory is now: C:\\Users\\amyno\\OneDrive\\Documents\\CherryLeafProject\\milestone-project-mildew-detection-in-cherry-leaves\n"
     ]
    }
   ],
   "source": [
    "import os\n",
    "\n",
    "project_dir = r\"C:\\Users\\amyno\\OneDrive\\Documents\\CherryLeafProject\\milestone-project-mildew-detection-in-cherry-leaves\"\n",
    "\n",
    "os.chdir(project_dir)\n",
    "\n",
    "print(f\" Current working directory is now: {os.getcwd()}\")"
   ]
  },
  {
   "cell_type": "markdown",
   "id": "e2796246",
   "metadata": {},
   "source": [
    "Confirm the new current directory"
   ]
  },
  {
   "cell_type": "code",
   "execution_count": 2,
   "id": "fb4418c0",
   "metadata": {},
   "outputs": [
    {
     "data": {
      "text/plain": [
       "'C:\\\\Users\\\\amyno\\\\OneDrive\\\\Documents\\\\CherryLeafProject\\\\milestone-project-mildew-detection-in-cherry-leaves'"
      ]
     },
     "execution_count": 2,
     "metadata": {},
     "output_type": "execute_result"
    }
   ],
   "source": [
    "current_dir = os.getcwd()\n",
    "current_dir"
   ]
  },
  {
   "cell_type": "markdown",
   "id": "1865a58d",
   "metadata": {},
   "source": [
    "---"
   ]
  },
  {
   "cell_type": "markdown",
   "id": "252e616c",
   "metadata": {},
   "source": [
    "# Load model and test data"
   ]
  },
  {
   "cell_type": "markdown",
   "id": "4e688d87",
   "metadata": {},
   "source": [
    "Load the pre trained model to start the evaluation"
   ]
  },
  {
   "cell_type": "markdown",
   "id": "83bfaec8",
   "metadata": {},
   "source": [
    "Import tensorflow"
   ]
  },
  {
   "cell_type": "code",
   "execution_count": 3,
   "id": "ae84ba90",
   "metadata": {},
   "outputs": [],
   "source": [
    "import tensorflow as tf"
   ]
  },
  {
   "cell_type": "markdown",
   "id": "0736c551",
   "metadata": {},
   "source": [
    "Load the model from the output directory "
   ]
  },
  {
   "cell_type": "code",
   "execution_count": 4,
   "id": "ef4b50f5",
   "metadata": {},
   "outputs": [],
   "source": [
    "import os\n",
    "\n",
    "os.makedirs(\"outputs/models\", exist_ok=True)"
   ]
  },
  {
   "cell_type": "markdown",
   "id": "e26ce537",
   "metadata": {},
   "source": [
    "Import load model from tensorflow"
   ]
  },
  {
   "cell_type": "code",
   "execution_count": 5,
   "id": "8762a9f1",
   "metadata": {},
   "outputs": [],
   "source": [
    "from tensorflow.keras.models import load_model"
   ]
  },
  {
   "cell_type": "code",
   "execution_count": 6,
   "id": "11bc255b",
   "metadata": {},
   "outputs": [
    {
     "name": "stdout",
     "output_type": "stream",
     "text": [
      "Model loaded successfully.\n"
     ]
    }
   ],
   "source": [
    "model = load_model(\"outputs/models/cherry_leaf_model.keras\")\n",
    "print(\"Model loaded successfully.\")"
   ]
  },
  {
   "cell_type": "markdown",
   "id": "558cc197",
   "metadata": {},
   "source": [
    "Load and ready the test data set"
   ]
  },
  {
   "cell_type": "code",
   "execution_count": 7,
   "id": "5361c3d0",
   "metadata": {},
   "outputs": [],
   "source": [
    "from tensorflow.keras.utils import image_dataset_from_directory"
   ]
  },
  {
   "cell_type": "code",
   "execution_count": 8,
   "id": "f44e4c62",
   "metadata": {},
   "outputs": [
    {
     "name": "stdout",
     "output_type": "stream",
     "text": [
      "Found 632 files belonging to 2 classes.\n"
     ]
    }
   ],
   "source": [
    "test_ds = image_dataset_from_directory(\n",
    "    \"inputs/dataset/test\",\n",
    "    image_size=(256, 256),\n",
    "    batch_size=32\n",
    ")"
   ]
  },
  {
   "cell_type": "markdown",
   "id": "6a4931b4",
   "metadata": {},
   "source": [
    "This will bring the test data set we need to evaluate the model into this notebook. The format of size and batch amount remains the same"
   ]
  },
  {
   "cell_type": "markdown",
   "id": "6ae61069",
   "metadata": {},
   "source": [
    "Prefetch for performance optimisation"
   ]
  },
  {
   "cell_type": "code",
   "execution_count": 9,
   "id": "efe5089c",
   "metadata": {},
   "outputs": [],
   "source": [
    "AUTOTUNE = tf.data.AUTOTUNE\n",
    "test_ds = test_ds.prefetch(buffer_size=AUTOTUNE)"
   ]
  },
  {
   "cell_type": "markdown",
   "id": "b26b9735",
   "metadata": {},
   "source": [
    "The model is now saved locally and loaded into this notebook ready for the next step of evaluating it's performance against the test data set"
   ]
  },
  {
   "cell_type": "code",
   "execution_count": 10,
   "id": "2e11df74",
   "metadata": {},
   "outputs": [
    {
     "name": "stdout",
     "output_type": "stream",
     "text": [
      "history loaded\n"
     ]
    }
   ],
   "source": [
    "import pickle\n",
    "\n",
    "with open('outputs/models/training_history.pkl', 'rb') as file:\n",
    "    history_data = pickle.load(file)\n",
    "\n",
    "print(\"history loaded\")"
   ]
  },
  {
   "cell_type": "markdown",
   "id": "b77db7ac",
   "metadata": {},
   "source": [
    "---"
   ]
  },
  {
   "cell_type": "markdown",
   "id": "b788523d",
   "metadata": {},
   "source": [
    "# Evaluate model against test data"
   ]
  },
  {
   "cell_type": "markdown",
   "id": "441c0151",
   "metadata": {},
   "source": [
    "Evaluate the model's performance using the unused test dataset. This will give the model's accuracy and loss on new data"
   ]
  },
  {
   "cell_type": "code",
   "execution_count": 11,
   "id": "219f4d00",
   "metadata": {},
   "outputs": [
    {
     "name": "stdout",
     "output_type": "stream",
     "text": [
      "\u001b[1m20/20\u001b[0m \u001b[32m━━━━━━━━━━━━━━━━━━━━\u001b[0m\u001b[37m\u001b[0m \u001b[1m3s\u001b[0m 109ms/step - accuracy: 0.6105 - loss: 732.2192\n",
      "Test Accuracy: 0.6203\n",
      "Test Loss: 725.7076\n"
     ]
    }
   ],
   "source": [
    "test_loss, test_accuracy = model.evaluate(test_ds) # code inspired by stack overflow and ref. in readme (1)\n",
    "print(f\"Test Accuracy: {test_accuracy:.4f}\")\n",
    "print(f\"Test Loss: {test_loss:.4f}\")"
   ]
  },
  {
   "cell_type": "markdown",
   "id": "35aa8cb7",
   "metadata": {},
   "source": [
    "The CNN model showed signs of underfitting, with a test accuracy of only 54%, which is disappointingly low. This reflects the model's simplicity and lack of advanced techniques"
   ]
  },
  {
   "cell_type": "markdown",
   "id": "41897e39",
   "metadata": {},
   "source": [
    "---"
   ]
  },
  {
   "cell_type": "markdown",
   "id": "64356514",
   "metadata": {},
   "source": [
    "# Plot loss and accuracy learning curves"
   ]
  },
  {
   "cell_type": "code",
   "execution_count": 12,
   "id": "b10743d9",
   "metadata": {},
   "outputs": [],
   "source": [
    "import matplotlib.pyplot as plt"
   ]
  },
  {
   "cell_type": "code",
   "execution_count": null,
   "id": "454efa44",
   "metadata": {},
   "outputs": [
    {
     "data": {
      "image/png": "[encoded data removed]",
      "text/plain": [
       "<Figure size 1000x500 with 1 Axes>"
      ]
     },
     "metadata": {},
     "output_type": "display_data"
    },
    {
     "data": {
      "image/png": "[encoded data removed]",
      "text/plain": [
       "<Figure size 1000x500 with 1 Axes>"
      ]
     },
     "metadata": {},
     "output_type": "display_data"
    }
   ],
   "source": [
    "plt.figure(figsize=(10, 5))\n",
    "plt.plot(history_data['accuracy'], label='Training Accuracy')\n",
    "plt.plot(history_data['val_accuracy'], label='Validation Accuracy')\n",
    "plt.title('Model Accuracy Over Epochs')\n",
    "plt.xlabel('Epoch')\n",
    "plt.ylabel('Accuracy')\n",
    "plt.legend()\n",
    "plt.show()\n",
    "\n",
    "# code inspired by pytorch and ref. in readme (2)\n",
    "\n",
    "plt.figure(figsize=(10, 5))\n",
    "plt.plot(history_data['loss'], label='Training Loss')\n",
    "plt.plot(history_data['val_loss'], label='Validation Loss')\n",
    "plt.title('Model Loss Over Epochs')\n",
    "plt.xlabel('Epoch')\n",
    "plt.ylabel('Loss')\n",
    "plt.legend()\n",
    "plt.show()"
   ]
  },
  {
   "cell_type": "markdown",
   "id": "c8868927",
   "metadata": {},
   "source": [
    "---"
   ]
  },
  {
   "cell_type": "markdown",
   "id": "0a15f02b",
   "metadata": {},
   "source": [
    "# Conclusions and next steps"
   ]
  },
  {
   "cell_type": "markdown",
   "id": "ee823b6f",
   "metadata": {},
   "source": [
    "## Conclusions\n",
    "* The trained model was successfully loaded for evaluation purposes\n",
    "* The model's performance was evaluated on the test dataset, providing final accuracy and loss metrics.\n",
    "* The test accuracy was significantly lower than the training accuracy, confirming overfitting in the development phase\n",
    "* Performance plots of training and validation metrics were generated to support the evaluation.\n",
    "* Key insights into the model's limitations and opportunities for optimisation were identified\n",
    "\n",
    "## Next steps\n",
    "* Develop a Streamlit dashboard to present the project findings and allow users to make live predictions.\n",
    "* Implement a user interface for image uploads and predictions.\n",
    "* Include visualisations of model performance and findings within the dashboard."
   ]
  }
 ],
 "metadata": {
  "kernelspec": {
   "display_name": "venv",
   "language": "python",
   "name": "python3"
  },
  "language_info": {
   "codemirror_mode": {
    "name": "ipython",
    "version": 3
   },
   "file_extension": ".py",
   "mimetype": "text/x-python",
   "name": "python",
   "nbconvert_exporter": "python",
   "pygments_lexer": "ipython3",
   "version": "3.10.0"
  }
 },
 "nbformat": 4,
 "nbformat_minor": 5
}
