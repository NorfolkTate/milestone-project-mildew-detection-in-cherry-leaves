{
 "cells": [
  {
   "cell_type": "markdown",
   "id": "fd60291d",
   "metadata": {},
   "source": [
    "# **5 – Model Evaluation**"
   ]
  },
  {
   "cell_type": "markdown",
   "id": "e0fd4bf1",
   "metadata": {},
   "source": [
    "## Objectives\n",
    "* Evaluate how well the trained CNN model performs on test data set\n",
    "* Generate key performance metrics (accuracy, loss, confusion matrix, classification report)\n",
    "\n",
    "## Inputs\n",
    "* Trained model \n",
    "* Test dataset\n",
    "\n",
    "## Outputs\n",
    "* Evaluation metrics \n",
    "* Learning curve plots \n",
    "* Predictions on test images"
   ]
  },
  {
   "cell_type": "markdown",
   "id": "179b8c59",
   "metadata": {},
   "source": [
    "---"
   ]
  },
  {
   "cell_type": "markdown",
   "id": "6d726989",
   "metadata": {},
   "source": [
    "# Change working directory"
   ]
  },
  {
   "cell_type": "markdown",
   "id": "02970ee8",
   "metadata": {},
   "source": [
    "Change the working directory from its current folder to its parent folder"
   ]
  },
  {
   "cell_type": "code",
   "execution_count": 1,
   "id": "45dd3e90",
   "metadata": {},
   "outputs": [
    {
     "data": {
      "text/plain": [
       "'c:\\\\Users\\\\amyno\\\\OneDrive\\\\Documents\\\\CherryLeafProject\\\\milestone-project-mildew-detection-in-cherry-leaves\\\\jupyter_notebooks'"
      ]
     },
     "execution_count": 1,
     "metadata": {},
     "output_type": "execute_result"
    }
   ],
   "source": [
    "import os\n",
    "current_dir = os.getcwd()\n",
    "current_dir"
   ]
  },
  {
   "cell_type": "markdown",
   "id": "b091607b",
   "metadata": {},
   "source": [
    "Make the parent of the current directory the new current directory\n",
    "* os.path.dirname() gets the parent directory\n",
    "* os.chir() defines the new current directory"
   ]
  },
  {
   "cell_type": "code",
   "execution_count": 2,
   "id": "dcf99cc3",
   "metadata": {},
   "outputs": [
    {
     "name": "stdout",
     "output_type": "stream",
     "text": [
      "You set a new current directory\n"
     ]
    }
   ],
   "source": [
    "os.chdir(os.path.dirname(current_dir))\n",
    "print(\"You set a new current directory\")"
   ]
  },
  {
   "cell_type": "markdown",
   "id": "e2796246",
   "metadata": {},
   "source": [
    "Confirm the new current directory"
   ]
  },
  {
   "cell_type": "code",
   "execution_count": 3,
   "id": "fb4418c0",
   "metadata": {},
   "outputs": [
    {
     "data": {
      "text/plain": [
       "'c:\\\\Users\\\\amyno\\\\OneDrive\\\\Documents\\\\CherryLeafProject\\\\milestone-project-mildew-detection-in-cherry-leaves'"
      ]
     },
     "execution_count": 3,
     "metadata": {},
     "output_type": "execute_result"
    }
   ],
   "source": [
    "current_dir = os.getcwd()\n",
    "current_dir"
   ]
  },
  {
   "cell_type": "markdown",
   "id": "1865a58d",
   "metadata": {},
   "source": [
    "---"
   ]
  },
  {
   "cell_type": "markdown",
   "id": "252e616c",
   "metadata": {},
   "source": [
    "# Load model"
   ]
  },
  {
   "cell_type": "markdown",
   "id": "4e688d87",
   "metadata": {},
   "source": [
    "Load the pre trained model to start the evaluation"
   ]
  },
  {
   "cell_type": "markdown",
   "id": "83bfaec8",
   "metadata": {},
   "source": [
    "Import tensorflow"
   ]
  },
  {
   "cell_type": "code",
   "execution_count": 6,
   "id": "ae84ba90",
   "metadata": {},
   "outputs": [],
   "source": [
    "import tensorflow as tf"
   ]
  },
  {
   "cell_type": "markdown",
   "id": "0736c551",
   "metadata": {},
   "source": [
    "Load the model from the output directory "
   ]
  },
  {
   "cell_type": "code",
   "execution_count": 8,
   "id": "d1452545",
   "metadata": {},
   "outputs": [
    {
     "name": "stdout",
     "output_type": "stream",
     "text": [
      "Model saved successfully.\n"
     ]
    }
   ],
   "source": [
    "model.save(\"outputs/models/cherry_leaf_model.keras\")\n",
    "print(\"Model saved successfully.\")"
   ]
  }
 ],
 "metadata": {
  "kernelspec": {
   "display_name": "venv",
   "language": "python",
   "name": "python3"
  },
  "language_info": {
   "codemirror_mode": {
    "name": "ipython",
    "version": 3
   },
   "file_extension": ".py",
   "mimetype": "text/x-python",
   "name": "python",
   "nbconvert_exporter": "python",
   "pygments_lexer": "ipython3",
   "version": "3.10.0"
  }
 },
 "nbformat": 4,
 "nbformat_minor": 5
}
