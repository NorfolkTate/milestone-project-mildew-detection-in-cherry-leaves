{
 "cells": [
  {
   "cell_type": "markdown",
   "id": "fd60291d",
   "metadata": {},
   "source": [
    "# **5 – Model Evaluation**"
   ]
  },
  {
   "cell_type": "markdown",
   "id": "e0fd4bf1",
   "metadata": {},
   "source": [
    "## Objectives\n",
    "* Evaluate how well the trained CNN model performs on test data set\n",
    "* Generate key performance metrics (accuracy, loss, confusion matrix, classification report)\n",
    "\n",
    "## Inputs\n",
    "* Trained model \n",
    "* Test dataset\n",
    "\n",
    "## Outputs\n",
    "* Evaluation metrics \n",
    "* Learning curve plots \n",
    "* Predictions on test images"
   ]
  },
  {
   "cell_type": "markdown",
   "id": "179b8c59",
   "metadata": {},
   "source": [
    "---"
   ]
  },
  {
   "cell_type": "markdown",
   "id": "6d726989",
   "metadata": {},
   "source": [
    "# Change working directory"
   ]
  },
  {
   "cell_type": "markdown",
   "id": "02970ee8",
   "metadata": {},
   "source": [
    "Change the working directory from its current folder to its parent folder"
   ]
  },
  {
   "cell_type": "code",
   "execution_count": 33,
   "id": "13db3927",
   "metadata": {},
   "outputs": [
    {
     "name": "stdout",
     "output_type": "stream",
     "text": [
      " Current working directory is now: C:\\Users\\amyno\\OneDrive\\Documents\\CherryLeafProject\\milestone-project-mildew-detection-in-cherry-leaves\n"
     ]
    }
   ],
   "source": [
    "import os\n",
    "\n",
    "project_dir = r\"C:\\Users\\amyno\\OneDrive\\Documents\\CherryLeafProject\\milestone-project-mildew-detection-in-cherry-leaves\"\n",
    "\n",
    "os.chdir(project_dir)\n",
    "\n",
    "print(f\" Current working directory is now: {os.getcwd()}\")"
   ]
  },
  {
   "cell_type": "code",
   "execution_count": 18,
   "id": "45dd3e90",
   "metadata": {},
   "outputs": [
    {
     "data": {
      "text/plain": [
       "'c:\\\\Users\\\\amyno\\\\OneDrive\\\\Documents\\\\CherryLeafProject\\\\milestone-project-mildew-detection-in-cherry-leaves'"
      ]
     },
     "execution_count": 18,
     "metadata": {},
     "output_type": "execute_result"
    }
   ],
   "source": [
    "import os\n",
    "current_dir = os.getcwd()\n",
    "current_dir"
   ]
  },
  {
   "cell_type": "markdown",
   "id": "b091607b",
   "metadata": {},
   "source": [
    "Make the parent of the current directory the new current directory\n",
    "* os.path.dirname() gets the parent directory\n",
    "* os.chir() defines the new current directory"
   ]
  },
  {
   "cell_type": "code",
   "execution_count": 19,
   "id": "dcf99cc3",
   "metadata": {},
   "outputs": [
    {
     "name": "stdout",
     "output_type": "stream",
     "text": [
      "You set a new current directory\n"
     ]
    }
   ],
   "source": [
    "os.chdir(os.path.dirname(current_dir))\n",
    "print(\"You set a new current directory\")"
   ]
  },
  {
   "cell_type": "markdown",
   "id": "e2796246",
   "metadata": {},
   "source": [
    "Confirm the new current directory"
   ]
  },
  {
   "cell_type": "code",
   "execution_count": 20,
   "id": "fb4418c0",
   "metadata": {},
   "outputs": [
    {
     "data": {
      "text/plain": [
       "'c:\\\\Users\\\\amyno\\\\OneDrive\\\\Documents\\\\CherryLeafProject'"
      ]
     },
     "execution_count": 20,
     "metadata": {},
     "output_type": "execute_result"
    }
   ],
   "source": [
    "current_dir = os.getcwd()\n",
    "current_dir"
   ]
  },
  {
   "cell_type": "markdown",
   "id": "1865a58d",
   "metadata": {},
   "source": [
    "---"
   ]
  },
  {
   "cell_type": "markdown",
   "id": "252e616c",
   "metadata": {},
   "source": [
    "# Load model and test data"
   ]
  },
  {
   "cell_type": "markdown",
   "id": "4e688d87",
   "metadata": {},
   "source": [
    "Load the pre trained model to start the evaluation"
   ]
  },
  {
   "cell_type": "markdown",
   "id": "83bfaec8",
   "metadata": {},
   "source": [
    "Import tensorflow"
   ]
  },
  {
   "cell_type": "code",
   "execution_count": 34,
   "id": "ae84ba90",
   "metadata": {},
   "outputs": [],
   "source": [
    "import tensorflow as tf"
   ]
  },
  {
   "cell_type": "markdown",
   "id": "0736c551",
   "metadata": {},
   "source": [
    "Load the model from the output directory "
   ]
  },
  {
   "cell_type": "code",
   "execution_count": 35,
   "id": "ef4b50f5",
   "metadata": {},
   "outputs": [],
   "source": [
    "import os\n",
    "\n",
    "os.makedirs(\"outputs/models\", exist_ok=True)"
   ]
  },
  {
   "cell_type": "code",
   "execution_count": 36,
   "id": "d1452545",
   "metadata": {},
   "outputs": [
    {
     "name": "stdout",
     "output_type": "stream",
     "text": [
      "Model saved successfully.\n"
     ]
    }
   ],
   "source": [
    "model.save(\"outputs/models/cherry_leaf_model.keras\")\n",
    "print(\"Model saved successfully.\")"
   ]
  },
  {
   "cell_type": "markdown",
   "id": "e26ce537",
   "metadata": {},
   "source": [
    "Import load model from tensorflow"
   ]
  },
  {
   "cell_type": "code",
   "execution_count": 37,
   "id": "8762a9f1",
   "metadata": {},
   "outputs": [],
   "source": [
    "from tensorflow.keras.models import load_model"
   ]
  },
  {
   "cell_type": "code",
   "execution_count": 38,
   "id": "11bc255b",
   "metadata": {},
   "outputs": [
    {
     "name": "stdout",
     "output_type": "stream",
     "text": [
      "Model loaded successfully.\n"
     ]
    }
   ],
   "source": [
    "model = load_model(\"outputs/models/cherry_leaf_model.keras\")\n",
    "print(\"Model loaded successfully.\")"
   ]
  },
  {
   "cell_type": "markdown",
   "id": "558cc197",
   "metadata": {},
   "source": [
    "Load and ready the test data set"
   ]
  },
  {
   "cell_type": "code",
   "execution_count": 39,
   "id": "5361c3d0",
   "metadata": {},
   "outputs": [],
   "source": [
    "from tensorflow.keras.utils import image_dataset_from_directory"
   ]
  },
  {
   "cell_type": "code",
   "execution_count": 40,
   "id": "f44e4c62",
   "metadata": {},
   "outputs": [
    {
     "name": "stdout",
     "output_type": "stream",
     "text": [
      "Found 632 files belonging to 2 classes.\n"
     ]
    }
   ],
   "source": [
    "test_ds = image_dataset_from_directory(\n",
    "    \"inputs/dataset/test\",\n",
    "    image_size=(256, 256),\n",
    "    batch_size=32\n",
    ")"
   ]
  },
  {
   "cell_type": "markdown",
   "id": "6a4931b4",
   "metadata": {},
   "source": [
    "This will bring the test data set we need to evaluate the model into this notebook. The format of size and batch amount remains the same"
   ]
  },
  {
   "cell_type": "markdown",
   "id": "6ae61069",
   "metadata": {},
   "source": [
    "Prefetch for performance optimisation"
   ]
  },
  {
   "cell_type": "code",
   "execution_count": 41,
   "id": "efe5089c",
   "metadata": {},
   "outputs": [],
   "source": [
    "AUTOTUNE = tf.data.AUTOTUNE\n",
    "test_ds = test_ds.prefetch(buffer_size=AUTOTUNE)"
   ]
  },
  {
   "cell_type": "markdown",
   "id": "b26b9735",
   "metadata": {},
   "source": [
    "The model is now saved locally and loaded into this notebook ready for the next step of evaluating it's performance against the test data set"
   ]
  },
  {
   "cell_type": "markdown",
   "id": "b77db7ac",
   "metadata": {},
   "source": [
    "---"
   ]
  },
  {
   "cell_type": "markdown",
   "id": "b788523d",
   "metadata": {},
   "source": [
    "# Evaluate model against test data"
   ]
  },
  {
   "cell_type": "markdown",
   "id": "441c0151",
   "metadata": {},
   "source": [
    "Evaluate the model's performance using the unused test dataset. This will give the model's accuracy and loss on new data"
   ]
  },
  {
   "cell_type": "code",
   "execution_count": 17,
   "id": "219f4d00",
   "metadata": {},
   "outputs": [
    {
     "name": "stdout",
     "output_type": "stream",
     "text": [
      "\u001b[1m20/20\u001b[0m \u001b[32m━━━━━━━━━━━━━━━━━━━━\u001b[0m\u001b[37m\u001b[0m \u001b[1m4s\u001b[0m 207ms/step - accuracy: 0.5304 - loss: 1051.8586\n",
      "Test Accuracy: 0.5427\n",
      "Test Loss: 1018.3854\n"
     ]
    }
   ],
   "source": [
    "test_loss, test_accuracy = model.evaluate(test_ds)\n",
    "print(f\"Test Accuracy: {test_accuracy:.4f}\")\n",
    "print(f\"Test Loss: {test_loss:.4f}\")"
   ]
  }
 ],
 "metadata": {
  "kernelspec": {
   "display_name": "venv",
   "language": "python",
   "name": "python3"
  },
  "language_info": {
   "codemirror_mode": {
    "name": "ipython",
    "version": 3
   },
   "file_extension": ".py",
   "mimetype": "text/x-python",
   "name": "python",
   "nbconvert_exporter": "python",
   "pygments_lexer": "ipython3",
   "version": "3.10.0"
  }
 },
 "nbformat": 4,
 "nbformat_minor": 5
}
