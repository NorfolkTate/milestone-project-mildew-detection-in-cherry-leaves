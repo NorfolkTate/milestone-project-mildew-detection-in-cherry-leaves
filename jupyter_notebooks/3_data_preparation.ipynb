{
 "cells": [
  {
   "cell_type": "markdown",
   "id": "b3594037",
   "metadata": {},
   "source": [
    "# **3 – Data Preparation**"
   ]
  },
  {
   "cell_type": "markdown",
   "id": "f636d2af",
   "metadata": {},
   "source": [
    "## Objectives\n",
    "\n",
    "* Clean and prepare image data for training\n",
    "* Ensure consistency in image dimensions and file types\n",
    "* Split data into training, validation, and test sets\n",
    "* Prepare the folder structure needed for modelling\n",
    "\n",
    "## Inputs\n",
    "\n",
    "* inputs/dataset/raw/cherry-leaves/\n",
    "\n",
    "## Outputs\n",
    "\n",
    "* Cleaned images in appropriate folders for modelling"
   ]
  },
  {
   "cell_type": "markdown",
   "id": "b42c0ed6",
   "metadata": {},
   "source": [
    "---"
   ]
  },
  {
   "cell_type": "markdown",
   "id": "48e785c4",
   "metadata": {},
   "source": [
    "# Change working directory"
   ]
  },
  {
   "cell_type": "markdown",
   "id": "182a6957",
   "metadata": {},
   "source": [
    "Change the working directory from its current folder to its parent folder"
   ]
  },
  {
   "cell_type": "code",
   "execution_count": 1,
   "id": "402f6138",
   "metadata": {},
   "outputs": [
    {
     "data": {
      "text/plain": [
       "'c:\\\\Users\\\\amyno\\\\OneDrive\\\\Documents\\\\CherryLeafProject\\\\milestone-project-mildew-detection-in-cherry-leaves\\\\jupyter_notebooks'"
      ]
     },
     "execution_count": 1,
     "metadata": {},
     "output_type": "execute_result"
    }
   ],
   "source": [
    "import os\n",
    "current_dir = os.getcwd()\n",
    "current_dir"
   ]
  },
  {
   "cell_type": "markdown",
   "id": "7c1a0f8b",
   "metadata": {},
   "source": [
    "Make the parent of the current directory the new current directory\n",
    "* os.path.dirname() gets the parent directory\n",
    "* os.chir() defines the new current directory"
   ]
  },
  {
   "cell_type": "code",
   "execution_count": 2,
   "id": "ac7147c9",
   "metadata": {},
   "outputs": [
    {
     "name": "stdout",
     "output_type": "stream",
     "text": [
      "You set a new current directory\n"
     ]
    }
   ],
   "source": [
    "os.chdir(os.path.dirname(current_dir))\n",
    "print(\"You set a new current directory\")"
   ]
  },
  {
   "cell_type": "markdown",
   "id": "224d7370",
   "metadata": {},
   "source": [
    "Confirm the new current directory"
   ]
  },
  {
   "cell_type": "code",
   "execution_count": 3,
   "id": "d8e8bd2f",
   "metadata": {},
   "outputs": [
    {
     "data": {
      "text/plain": [
       "'c:\\\\Users\\\\amyno\\\\OneDrive\\\\Documents\\\\CherryLeafProject\\\\milestone-project-mildew-detection-in-cherry-leaves'"
      ]
     },
     "execution_count": 3,
     "metadata": {},
     "output_type": "execute_result"
    }
   ],
   "source": [
    "current_dir = os.getcwd()\n",
    "current_dir"
   ]
  },
  {
   "cell_type": "markdown",
   "id": "95bfa7ba",
   "metadata": {},
   "source": [
    "---"
   ]
  },
  {
   "cell_type": "markdown",
   "id": "b022803e",
   "metadata": {},
   "source": [
    "# Identify and remove and non image files"
   ]
  },
  {
   "cell_type": "markdown",
   "id": "920fa8f4",
   "metadata": {},
   "source": [
    "Whilst I expect a Kaggle dataset to be relatively uniform, any non image files could result in bugs or errors during image processing later on. This step will ensure that only files ending in .jpg, .jpeg, or .png will be used"
   ]
  },
  {
   "cell_type": "markdown",
   "id": "ad5a1a33",
   "metadata": {},
   "source": [
    "Define the current image path and types of data allowed"
   ]
  },
  {
   "cell_type": "code",
   "execution_count": 4,
   "id": "fd8425ea",
   "metadata": {},
   "outputs": [],
   "source": [
    "raw_path = os.path.join(\"inputs\", \"dataset\", \"raw\", \"cherry-leaves\")\n",
    "\n",
    "valid_extensions = [\".jpg\", \".jpeg\", \".png\"]"
   ]
  },
  {
   "cell_type": "markdown",
   "id": "996d438b",
   "metadata": {},
   "source": [
    "Track non image files "
   ]
  },
  {
   "cell_type": "code",
   "execution_count": 5,
   "id": "a47d2b45",
   "metadata": {},
   "outputs": [],
   "source": [
    "non_image_files = []"
   ]
  },
  {
   "cell_type": "markdown",
   "id": "8757053f",
   "metadata": {},
   "source": [
    "For loop to loop through class folders and check"
   ]
  },
  {
   "cell_type": "code",
   "execution_count": 6,
   "id": "cac56ec8",
   "metadata": {},
   "outputs": [
    {
     "data": {
      "text/plain": [
       "[]"
      ]
     },
     "execution_count": 6,
     "metadata": {},
     "output_type": "execute_result"
    }
   ],
   "source": [
    "for class_name in os.listdir(raw_path):\n",
    "    class_folder = os.path.join(raw_path, class_name)\n",
    "\n",
    "    for file in os.listdir(class_folder):\n",
    "        file_path = os.path.join(class_folder, file)\n",
    "\n",
    "        if not os.path.splitext(file)[1].lower() in valid_extensions:\n",
    "            non_image_files.append(file_path)\n",
    "\n",
    "non_image_files"
   ]
  },
  {
   "cell_type": "markdown",
   "id": "c80ee496",
   "metadata": {},
   "source": [
    "The code returned a tupple with no contents, meaning there is no non image files to deal with"
   ]
  },
  {
   "cell_type": "code",
   "execution_count": 7,
   "id": "a5f19c64",
   "metadata": {},
   "outputs": [
    {
     "name": "stdout",
     "output_type": "stream",
     "text": [
      "0 non image files removed.\n"
     ]
    }
   ],
   "source": [
    "for file_path in non_image_files:\n",
    "    os.remove(file_path)\n",
    "\n",
    "print(f\"{len(non_image_files)} non image files removed.\")"
   ]
  },
  {
   "cell_type": "markdown",
   "id": "450f1b31",
   "metadata": {},
   "source": [
    "Confirmed as no non image files as none have been deleted"
   ]
  },
  {
   "cell_type": "markdown",
   "id": "d75015c2",
   "metadata": {},
   "source": [
    "---"
   ]
  },
  {
   "cell_type": "code",
   "execution_count": null,
   "id": "84cde78a",
   "metadata": {},
   "outputs": [],
   "source": []
  }
 ],
 "metadata": {
  "kernelspec": {
   "display_name": "venv",
   "language": "python",
   "name": "python3"
  },
  "language_info": {
   "codemirror_mode": {
    "name": "ipython",
    "version": 3
   },
   "file_extension": ".py",
   "mimetype": "text/x-python",
   "name": "python",
   "nbconvert_exporter": "python",
   "pygments_lexer": "ipython3",
   "version": "3.10.0"
  }
 },
 "nbformat": 4,
 "nbformat_minor": 5
}
